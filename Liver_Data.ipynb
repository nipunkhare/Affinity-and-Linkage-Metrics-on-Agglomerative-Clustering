{
 "cells": [
  {
   "cell_type": "code",
   "execution_count": 119,
   "metadata": {},
   "outputs": [],
   "source": [
    "import numpy as np\n",
    "import matplotlib.pyplot as plt\n",
    "import pandas as pd\n",
    "%matplotlib inline\n",
    "import seaborn as sns"
   ]
  },
  {
   "cell_type": "code",
   "execution_count": 120,
   "metadata": {},
   "outputs": [],
   "source": [
    "data= pd.read_csv(r'C:\\Users\\Nipun Khare\\Desktop\\liver_patient.csv', header=None)"
   ]
  },
  {
   "cell_type": "code",
   "execution_count": 121,
   "metadata": {},
   "outputs": [
    {
     "data": {
      "text/html": [
       "<div>\n",
       "<style scoped>\n",
       "    .dataframe tbody tr th:only-of-type {\n",
       "        vertical-align: middle;\n",
       "    }\n",
       "\n",
       "    .dataframe tbody tr th {\n",
       "        vertical-align: top;\n",
       "    }\n",
       "\n",
       "    .dataframe thead th {\n",
       "        text-align: right;\n",
       "    }\n",
       "</style>\n",
       "<table border=\"1\" class=\"dataframe\">\n",
       "  <thead>\n",
       "    <tr style=\"text-align: right;\">\n",
       "      <th></th>\n",
       "      <th>0</th>\n",
       "      <th>1</th>\n",
       "      <th>2</th>\n",
       "      <th>3</th>\n",
       "      <th>4</th>\n",
       "      <th>5</th>\n",
       "      <th>6</th>\n",
       "      <th>7</th>\n",
       "      <th>8</th>\n",
       "      <th>9</th>\n",
       "      <th>10</th>\n",
       "    </tr>\n",
       "  </thead>\n",
       "  <tbody>\n",
       "    <tr>\n",
       "      <td>0</td>\n",
       "      <td>65</td>\n",
       "      <td>0</td>\n",
       "      <td>0.7</td>\n",
       "      <td>0.1</td>\n",
       "      <td>187</td>\n",
       "      <td>16</td>\n",
       "      <td>18</td>\n",
       "      <td>6.8</td>\n",
       "      <td>3.3</td>\n",
       "      <td>0.90</td>\n",
       "      <td>1</td>\n",
       "    </tr>\n",
       "    <tr>\n",
       "      <td>1</td>\n",
       "      <td>62</td>\n",
       "      <td>1</td>\n",
       "      <td>10.9</td>\n",
       "      <td>5.5</td>\n",
       "      <td>699</td>\n",
       "      <td>64</td>\n",
       "      <td>100</td>\n",
       "      <td>7.5</td>\n",
       "      <td>3.2</td>\n",
       "      <td>0.74</td>\n",
       "      <td>1</td>\n",
       "    </tr>\n",
       "    <tr>\n",
       "      <td>2</td>\n",
       "      <td>62</td>\n",
       "      <td>1</td>\n",
       "      <td>7.3</td>\n",
       "      <td>4.1</td>\n",
       "      <td>490</td>\n",
       "      <td>60</td>\n",
       "      <td>68</td>\n",
       "      <td>7.0</td>\n",
       "      <td>3.3</td>\n",
       "      <td>0.89</td>\n",
       "      <td>1</td>\n",
       "    </tr>\n",
       "    <tr>\n",
       "      <td>3</td>\n",
       "      <td>58</td>\n",
       "      <td>1</td>\n",
       "      <td>1.0</td>\n",
       "      <td>0.4</td>\n",
       "      <td>182</td>\n",
       "      <td>14</td>\n",
       "      <td>20</td>\n",
       "      <td>6.8</td>\n",
       "      <td>3.4</td>\n",
       "      <td>1.00</td>\n",
       "      <td>1</td>\n",
       "    </tr>\n",
       "    <tr>\n",
       "      <td>4</td>\n",
       "      <td>72</td>\n",
       "      <td>1</td>\n",
       "      <td>3.9</td>\n",
       "      <td>2.0</td>\n",
       "      <td>195</td>\n",
       "      <td>27</td>\n",
       "      <td>59</td>\n",
       "      <td>7.3</td>\n",
       "      <td>2.4</td>\n",
       "      <td>0.40</td>\n",
       "      <td>1</td>\n",
       "    </tr>\n",
       "  </tbody>\n",
       "</table>\n",
       "</div>"
      ],
      "text/plain": [
       "   0   1     2    3    4   5    6    7    8     9   10\n",
       "0  65   0   0.7  0.1  187  16   18  6.8  3.3  0.90   1\n",
       "1  62   1  10.9  5.5  699  64  100  7.5  3.2  0.74   1\n",
       "2  62   1   7.3  4.1  490  60   68  7.0  3.3  0.89   1\n",
       "3  58   1   1.0  0.4  182  14   20  6.8  3.4  1.00   1\n",
       "4  72   1   3.9  2.0  195  27   59  7.3  2.4  0.40   1"
      ]
     },
     "execution_count": 121,
     "metadata": {},
     "output_type": "execute_result"
    }
   ],
   "source": [
    "data.head()"
   ]
  },
  {
   "cell_type": "code",
   "execution_count": 122,
   "metadata": {},
   "outputs": [
    {
     "data": {
      "image/png": "[encoded data removed]",
      "text/plain": [
       "<Figure size 432x288 with 1 Axes>"
      ]
     },
     "metadata": {
      "needs_background": "light"
     },
     "output_type": "display_data"
    }
   ],
   "source": [
    "from sklearn.cluster import KMeans\n",
    "wcss = []\n",
    "for i in range(1,11):\n",
    "    kmeans = KMeans(n_clusters = i, init = 'k-means++', random_state = 42)\n",
    "    kmeans.fit(data)\n",
    "    wcss.append(kmeans.inertia_)\n",
    "plt.plot(range(1, 11), wcss)\n",
    "plt.title('The Elbow Method')\n",
    "plt.xlabel('Number of clusters')\n",
    "plt.ylabel('WCSS')\n",
    "plt.show()"
   ]
  },
  {
   "cell_type": "code",
   "execution_count": 123,
   "metadata": {},
   "outputs": [],
   "source": [
    "kmeans = KMeans(n_clusters = 2, init = 'k-means++', random_state = 42)\n",
    "y_kmeans = kmeans.fit_predict(data)"
   ]
  },
  {
   "cell_type": "code",
   "execution_count": 124,
   "metadata": {},
   "outputs": [
    {
     "data": {
      "text/plain": [
       "0.8566239104830548"
      ]
     },
     "execution_count": 124,
     "metadata": {},
     "output_type": "execute_result"
    }
   ],
   "source": [
    "from sklearn.metrics import silhouette_score\n",
    "silhouette_score(data, y_kmeans)"
   ]
  },
  {
   "cell_type": "code",
   "execution_count": 125,
   "metadata": {},
   "outputs": [],
   "source": [
    "kmeans = KMeans(n_clusters = 2, init = 'k-means++', random_state = 42)\n",
    "y_kmeans = kmeans.fit_predict(data)"
   ]
  },
  {
   "cell_type": "code",
   "execution_count": 126,
   "metadata": {},
   "outputs": [],
   "source": [
    "from scipy.cluster import hierarchy "
   ]
  },
  {
   "cell_type": "code",
   "execution_count": 127,
   "metadata": {},
   "outputs": [
    {
     "data": {
      "image/png": "[encoded data removed]",
      "text/plain": [
       "<Figure size 432x288 with 1 Axes>"
      ]
     },
     "metadata": {
      "needs_background": "light"
     },
     "output_type": "display_data"
    }
   ],
   "source": [
    "dendrogram = hierarchy.dendrogram(hierarchy.linkage(data, method = 'ward'))\n",
    "plt.rcParams[\"figure.figsize\"] = (10,10)\n",
    "plt.title('Dendrogram')\n",
    "plt.xlabel('Patients')\n",
    "plt.ylabel('Euclidean distances')\n",
    "plt.show()"
   ]
  },
  {
   "cell_type": "code",
   "execution_count": 128,
   "metadata": {},
   "outputs": [],
   "source": [
    "#practice run\n",
    "from sklearn.cluster import AgglomerativeClustering\n",
    "ac = AgglomerativeClustering(n_clusters = 2, affinity = 'euclidean', linkage = 'ward')\n",
    "ypred =ac.fit_predict(data)"
   ]
  },
  {
   "cell_type": "code",
   "execution_count": 129,
   "metadata": {},
   "outputs": [
    {
     "data": {
      "text/plain": [
       "0.9252631113140559"
      ]
     },
     "execution_count": 129,
     "metadata": {},
     "output_type": "execute_result"
    }
   ],
   "source": [
    "from sklearn.metrics import silhouette_score\n",
    "silhouette_score(data, ypred)"
   ]
  },
  {
   "cell_type": "markdown",
   "metadata": {},
   "source": [
    "# Silhouette Scores -"
   ]
  },
  {
   "cell_type": "markdown",
   "metadata": {},
   "source": [
    "# With Affinity for Euclidean"
   ]
  },
  {
   "cell_type": "code",
   "execution_count": 130,
   "metadata": {},
   "outputs": [],
   "source": [
    "complete = AgglomerativeClustering(n_clusters=2, linkage='complete', affinity = 'euclidean')\n",
    "complete_pred = complete.fit_predict(data)\n",
    "\n",
    "ward = AgglomerativeClustering(n_clusters=2) #default is euclidean\n",
    "ward_pred = ward.fit_predict(data)\n",
    "\n",
    "avg = AgglomerativeClustering(n_clusters=2, linkage='average', affinity='euclidean')\n",
    "avg_pred = avg.fit_predict(data)\n",
    "\n",
    "single = AgglomerativeClustering(n_clusters =2, linkage ='single', affinity = 'euclidean')\n",
    "single_pred = single.fit_predict(data)"
   ]
  },
  {
   "cell_type": "code",
   "execution_count": 131,
   "metadata": {},
   "outputs": [
    {
     "name": "stdout",
     "output_type": "stream",
     "text": [
      "Silhouette Scores: Euclidean \n",
      "Ward: 0.9252631113140559 \n",
      "Complete:  0.934162291037647 \n",
      "Average:  0.9252631113140559 \n",
      "Single: 0.934162291037647\n"
     ]
    }
   ],
   "source": [
    "ward_score_e = silhouette_score(data,ward_pred)\n",
    "complete_score_e = silhouette_score(data,complete_pred)\n",
    "avg_score_e = silhouette_score(data,avg_pred)\n",
    "single_score_e =silhouette_score(data,single_pred)\n",
    "\n",
    "print( \"Silhouette Scores: Euclidean \\nWard:\", ward_score_e,\"\\nComplete: \", complete_score_e, \"\\nAverage: \", avg_score_e, \"\\nSingle:\", single_score_e)"
   ]
  },
  {
   "cell_type": "markdown",
   "metadata": {},
   "source": [
    "# With Affinity for L1"
   ]
  },
  {
   "cell_type": "code",
   "execution_count": 132,
   "metadata": {},
   "outputs": [],
   "source": [
    "complete = AgglomerativeClustering(n_clusters=2, linkage='complete', affinity = 'l1')\n",
    "complete_pred = complete.fit_predict(data)\n",
    "\n",
    "ward = AgglomerativeClustering(n_clusters=2) #default is euclidean\n",
    "ward_pred = ward.fit_predict(data)\n",
    "\n",
    "avg = AgglomerativeClustering(n_clusters=2, linkage='average', affinity='l1')\n",
    "avg_pred = avg.fit_predict(data)\n",
    "\n",
    "single = AgglomerativeClustering(n_clusters =2, linkage ='single', affinity = 'l1')\n",
    "single_pred = single.fit_predict(data)"
   ]
  },
  {
   "cell_type": "code",
   "execution_count": 133,
   "metadata": {},
   "outputs": [
    {
     "name": "stdout",
     "output_type": "stream",
     "text": [
      "Silhouette Scores: L1 \n",
      "Ward: 0.9252631113140559 \n",
      "Complete:  0.9252631113140559 \n",
      "Average:  0.9252631113140559 \n",
      "Single: 0.934162291037647\n"
     ]
    }
   ],
   "source": [
    "ward_score_l1 = silhouette_score(data,ward_pred)\n",
    "complete_score_l1 = silhouette_score(data,complete_pred)\n",
    "avg_score_l1 = silhouette_score(data,avg_pred)\n",
    "single_score_l1 =silhouette_score(data,single_pred)\n",
    "\n",
    "print( \"Silhouette Scores: L1 \\nWard:\", ward_score_l1,\"\\nComplete: \", complete_score_l1, \"\\nAverage: \", avg_score_l1, \"\\nSingle:\", single_score_l1)"
   ]
  },
  {
   "cell_type": "markdown",
   "metadata": {},
   "source": [
    "# With Affinity for L2"
   ]
  },
  {
   "cell_type": "code",
   "execution_count": 134,
   "metadata": {},
   "outputs": [],
   "source": [
    "complete = AgglomerativeClustering(n_clusters=2, linkage='complete', affinity = 'l2')\n",
    "complete_pred = complete.fit_predict(data)\n",
    "\n",
    "ward = AgglomerativeClustering(n_clusters=2) #default is euclidean\n",
    "ward_pred = ward.fit_predict(data)\n",
    "\n",
    "avg = AgglomerativeClustering(n_clusters=2, linkage='average', affinity='l2')\n",
    "avg_pred = avg.fit_predict(data)\n",
    "\n",
    "single = AgglomerativeClustering(n_clusters =2, linkage ='single', affinity = 'l2')\n",
    "single_pred = single.fit_predict(data)"
   ]
  },
  {
   "cell_type": "code",
   "execution_count": 135,
   "metadata": {},
   "outputs": [
    {
     "name": "stdout",
     "output_type": "stream",
     "text": [
      "Silhouette Scores: L2 \n",
      "Ward: 0.9252631113140559 \n",
      "Complete:  0.934162291037647 \n",
      "Average:  0.9252631113140559 \n",
      "Single: 0.934162291037647\n"
     ]
    }
   ],
   "source": [
    "ward_score_l2 = silhouette_score(data,ward_pred)\n",
    "complete_score_l2 = silhouette_score(data,complete_pred)\n",
    "avg_score_l2 = silhouette_score(data,avg_pred)\n",
    "single_score_l2 =silhouette_score(data,single_pred)\n",
    "\n",
    "print( \"Silhouette Scores: L2 \\nWard:\", ward_score_l2,\"\\nComplete: \", complete_score_l2, \"\\nAverage: \", avg_score_l2, \"\\nSingle:\", single_score_l2)"
   ]
  },
  {
   "cell_type": "markdown",
   "metadata": {},
   "source": [
    "# With Affinity for Manhattan"
   ]
  },
  {
   "cell_type": "code",
   "execution_count": 136,
   "metadata": {},
   "outputs": [],
   "source": [
    "complete = AgglomerativeClustering(n_clusters=2, linkage='complete', affinity = 'manhattan')\n",
    "complete_pred = complete.fit_predict(data)\n",
    "\n",
    "ward = AgglomerativeClustering(n_clusters=2) #default is euclidean\n",
    "ward_pred = ward.fit_predict(data)\n",
    "\n",
    "avg = AgglomerativeClustering(n_clusters=2, linkage='average', affinity='manhattan')\n",
    "avg_pred = avg.fit_predict(data)\n",
    "\n",
    "single = AgglomerativeClustering(n_clusters =2, linkage ='single', affinity = 'manhattan')\n",
    "single_pred = single.fit_predict(data)"
   ]
  },
  {
   "cell_type": "code",
   "execution_count": 137,
   "metadata": {},
   "outputs": [
    {
     "name": "stdout",
     "output_type": "stream",
     "text": [
      "Silhouette Scores: Manhattan \n",
      "Ward: 0.9252631113140559 \n",
      "Complete:  0.9252631113140559 \n",
      "Average:  0.9252631113140559 \n",
      "Single: 0.934162291037647\n"
     ]
    }
   ],
   "source": [
    "ward_score_man = silhouette_score(data,ward_pred)\n",
    "complete_score_man = silhouette_score(data,complete_pred)\n",
    "avg_score_man = silhouette_score(data,avg_pred)\n",
    "single_score_man =silhouette_score(data,single_pred)\n",
    "\n",
    "print( \"Silhouette Scores: Manhattan \\nWard:\", ward_score_man,\"\\nComplete: \", complete_score_man, \"\\nAverage: \", avg_score_man, \"\\nSingle:\", single_score_man)"
   ]
  },
  {
   "cell_type": "markdown",
   "metadata": {},
   "source": [
    "# With Affinity for cosine"
   ]
  },
  {
   "cell_type": "code",
   "execution_count": 138,
   "metadata": {},
   "outputs": [],
   "source": [
    "complete = AgglomerativeClustering(n_clusters=2, linkage='complete', affinity = 'cosine')\n",
    "complete_pred = complete.fit_predict(data)\n",
    "\n",
    "ward = AgglomerativeClustering(n_clusters=2) #default is euclidean\n",
    "ward_pred = ward.fit_predict(data)\n",
    "\n",
    "avg = AgglomerativeClustering(n_clusters=2, linkage='average', affinity='cosine')\n",
    "avg_pred = avg.fit_predict(data)\n",
    "\n",
    "single = AgglomerativeClustering(n_clusters =2, linkage ='single', affinity = 'cosine')\n",
    "single_pred = single.fit_predict(data)"
   ]
  },
  {
   "cell_type": "code",
   "execution_count": 139,
   "metadata": {},
   "outputs": [
    {
     "name": "stdout",
     "output_type": "stream",
     "text": [
      "Silhouette Scores: Cosine \n",
      "Ward: 0.9252631113140559 \n",
      "Complete:  0.5839387108871107 \n",
      "Average:  0.5793344546879425 \n",
      "Single: 0.8545112737211615\n"
     ]
    }
   ],
   "source": [
    "ward_score_cos = silhouette_score(data,ward_pred)\n",
    "complete_score_cos = silhouette_score(data,complete_pred)\n",
    "avg_score_cos = silhouette_score(data,avg_pred)\n",
    "single_score_cos =silhouette_score(data,single_pred)\n",
    "\n",
    "print( \"Silhouette Scores: Cosine \\nWard:\", ward_score_cos,\"\\nComplete: \", complete_score_cos, \"\\nAverage: \", avg_score_cos, \"\\nSingle:\", single_score_cos)"
   ]
  },
  {
   "cell_type": "markdown",
   "metadata": {},
   "source": [
    "# With Affinity for Precomputed"
   ]
  },
  {
   "cell_type": "code",
   "execution_count": 140,
   "metadata": {},
   "outputs": [],
   "source": [
    "from scipy.spatial import distance_matrix\n",
    "data_one=pd.DataFrame(distance_matrix(data.values, data.values), index=data.index, columns=data.index)"
   ]
  },
  {
   "cell_type": "code",
   "execution_count": 141,
   "metadata": {},
   "outputs": [
    {
     "name": "stderr",
     "output_type": "stream",
     "text": [
      "C:\\Users\\Nipun Khare\\Anaconda3\\lib\\site-packages\\scipy\\cluster\\hierarchy.py:830: ClusterWarning: scipy.cluster: The symmetric non-negative hollow observation matrix looks suspiciously like an uncondensed distance matrix\n",
      "  return linkage(y, method='ward', metric='euclidean')\n"
     ]
    }
   ],
   "source": [
    "complete = AgglomerativeClustering(n_clusters=2, linkage='complete', affinity = 'precomputed')\n",
    "complete_pred = complete.fit_predict(data_one)\n",
    "\n",
    "ward = AgglomerativeClustering(n_clusters=2) #default is euclidean\n",
    "ward_pred = ward.fit_predict(data_one)\n",
    "\n",
    "avg = AgglomerativeClustering(n_clusters=2, linkage='average', affinity='precomputed')\n",
    "avg_pred = avg.fit_predict(data_one)\n",
    "\n",
    "single = AgglomerativeClustering(n_clusters =2, linkage ='single', affinity = 'precomputed')\n",
    "single_pred = single.fit_predict(data_one)"
   ]
  },
  {
   "cell_type": "code",
   "execution_count": 142,
   "metadata": {},
   "outputs": [
    {
     "name": "stdout",
     "output_type": "stream",
     "text": [
      "Silhouette Scores: Precomputed  \n",
      "Ward: 0.8822003707480082 \n",
      "Complete:  0.9447284651813167 \n",
      "Average:  0.9375485598075396 \n",
      "Single: 0.9447284651813167\n"
     ]
    }
   ],
   "source": [
    "ward_score_pre = silhouette_score(data_one,ward_pred)\n",
    "complete_score_pre = silhouette_score(data_one,complete_pred)\n",
    "avg_score_pre = silhouette_score(data_one,avg_pred)\n",
    "single_score_pre =silhouette_score(data_one,single_pred)\n",
    "\n",
    "print( \"Silhouette Scores: Precomputed  \\nWard:\", ward_score_pre,\"\\nComplete: \", complete_score_pre, \"\\nAverage: \", avg_score_pre, \"\\nSingle:\", single_score_pre)"
   ]
  },
  {
   "cell_type": "markdown",
   "metadata": {},
   "source": [
    "# Davies-Bouldin Scores - "
   ]
  },
  {
   "cell_type": "code",
   "execution_count": 143,
   "metadata": {},
   "outputs": [],
   "source": [
    "from sklearn.metrics import davies_bouldin_score"
   ]
  },
  {
   "cell_type": "code",
   "execution_count": 144,
   "metadata": {},
   "outputs": [],
   "source": [
    "data1= pd.read_csv(r'C:\\Users\\Nipun Khare\\Desktop\\liver_patient.csv', header=None)"
   ]
  },
  {
   "cell_type": "markdown",
   "metadata": {},
   "source": [
    "# With Affinity for Euclidean"
   ]
  },
  {
   "cell_type": "code",
   "execution_count": 145,
   "metadata": {},
   "outputs": [],
   "source": [
    "complete = AgglomerativeClustering(n_clusters=2, linkage='complete', affinity = 'euclidean')\n",
    "complete_pred = complete.fit_predict(data1)\n",
    "\n",
    "ward = AgglomerativeClustering(n_clusters=2) #default is euclidean\n",
    "ward_pred = ward.fit_predict(data1)\n",
    "\n",
    "avg = AgglomerativeClustering(n_clusters=2, linkage='average', affinity='euclidean')\n",
    "avg_pred = avg.fit_predict(data1)\n",
    "\n",
    "single = AgglomerativeClustering(n_clusters =2, linkage ='single', affinity = 'euclidean')\n",
    "single_pred = single.fit_predict(data1)"
   ]
  },
  {
   "cell_type": "code",
   "execution_count": 146,
   "metadata": {},
   "outputs": [
    {
     "name": "stdout",
     "output_type": "stream",
     "text": [
      "DBI Scores: Euclidean \n",
      "Ward: 0.328863642651896 \n",
      "Complete:  0.043621555085389105 \n",
      "Average:  0.328863642651896 \n",
      "Single: 0.043621555085389105\n"
     ]
    }
   ],
   "source": [
    "ward_score_e = ward_score_e = silhouette_score(data,ward_pred)\n",
    "complete_score_e = silhouette_score(data,complete_pred)\n",
    "avg_score_e = silhouette_score(data,avg_pred)\n",
    "single_score_e =silhouette_score(data,single_pred)\n",
    "\n",
    "print( \"DBI Scores: Euclidean \\nWard:\", ward_score_e,\"\\nComplete: \", complete_score_e, \"\\nAverage: \", avg_score_e, \"\\nSingle:\", single_score_e)"
   ]
  },
  {
   "cell_type": "markdown",
   "metadata": {},
   "source": [
    "# With Affinity for L1"
   ]
  },
  {
   "cell_type": "code",
   "execution_count": 147,
   "metadata": {},
   "outputs": [],
   "source": [
    "complete = AgglomerativeClustering(n_clusters=2, linkage='complete', affinity = 'l1')\n",
    "complete_pred = complete.fit_predict(data1)\n",
    "\n",
    "ward = AgglomerativeClustering(n_clusters=2) #default is euclidean\n",
    "ward_pred = ward.fit_predict(data1)\n",
    "\n",
    "avg = AgglomerativeClustering(n_clusters=2, linkage='average', affinity='l1')\n",
    "avg_pred = avg.fit_predict(data1)\n",
    "\n",
    "single = AgglomerativeClustering(n_clusters =2, linkage ='single', affinity = 'l1')\n",
    "single_pred = single.fit_predict(data1)"
   ]
  },
  {
   "cell_type": "code",
   "execution_count": 148,
   "metadata": {},
   "outputs": [
    {
     "name": "stdout",
     "output_type": "stream",
     "text": [
      "DBI Scores: L1 \n",
      "Ward: 0.328863642651896 \n",
      "Complete:  0.328863642651896 \n",
      "Average:  0.328863642651896 \n",
      "Single: 0.043621555085389105\n"
     ]
    }
   ],
   "source": [
    "ward_score_l1 = davies_bouldin_score(data1,ward_pred)\n",
    "complete_score_l1 = davies_bouldin_score(data1,complete_pred)\n",
    "avg_score_l1 = davies_bouldin_score(data1,avg_pred)\n",
    "single_score_l1 =davies_bouldin_score(data1,single_pred)\n",
    "\n",
    "print( \"DBI Scores: L1 \\nWard:\", ward_score_l1,\"\\nComplete: \", complete_score_l1, \"\\nAverage: \", avg_score_l1, \"\\nSingle:\", single_score_l1)"
   ]
  },
  {
   "cell_type": "markdown",
   "metadata": {},
   "source": [
    "# With Affinity for L2"
   ]
  },
  {
   "cell_type": "code",
   "execution_count": 149,
   "metadata": {},
   "outputs": [],
   "source": [
    "complete = AgglomerativeClustering(n_clusters=2, linkage='complete', affinity = 'l2')\n",
    "complete_pred = complete.fit_predict(data1)\n",
    "\n",
    "ward = AgglomerativeClustering(n_clusters=2) #default is euclidean\n",
    "ward_pred = ward.fit_predict(data1)\n",
    "\n",
    "avg = AgglomerativeClustering(n_clusters=2, linkage='average', affinity='l2')\n",
    "avg_pred = avg.fit_predict(data1)\n",
    "\n",
    "single = AgglomerativeClustering(n_clusters =2, linkage ='single', affinity = 'l2')\n",
    "single_pred = single.fit_predict(data1)"
   ]
  },
  {
   "cell_type": "code",
   "execution_count": 150,
   "metadata": {},
   "outputs": [
    {
     "name": "stdout",
     "output_type": "stream",
     "text": [
      "DBI Scores: L2 \n",
      "Ward: 0.328863642651896 \n",
      "Complete:  0.043621555085389105 \n",
      "Average:  0.328863642651896 \n",
      "Single: 0.043621555085389105\n"
     ]
    }
   ],
   "source": [
    "ward_score_l2 = davies_bouldin_score(data1,ward_pred)\n",
    "complete_score_l2 = davies_bouldin_score(data1,complete_pred)\n",
    "avg_score_l2 = davies_bouldin_score(data1,avg_pred)\n",
    "single_score_l2 =davies_bouldin_score(data1,single_pred)\n",
    "\n",
    "print( \"DBI Scores: L2 \\nWard:\", ward_score_l2,\"\\nComplete: \", complete_score_l2, \"\\nAverage: \", avg_score_l2, \"\\nSingle:\", single_score_l2)"
   ]
  },
  {
   "cell_type": "markdown",
   "metadata": {},
   "source": [
    "# With Affinity for Manhattan"
   ]
  },
  {
   "cell_type": "code",
   "execution_count": 151,
   "metadata": {},
   "outputs": [],
   "source": [
    "complete = AgglomerativeClustering(n_clusters=2, linkage='complete', affinity = 'manhattan')\n",
    "complete_pred = complete.fit_predict(data1)\n",
    "\n",
    "ward = AgglomerativeClustering(n_clusters=2) #default is euclidean\n",
    "ward_pred = ward.fit_predict(data1)\n",
    "\n",
    "avg = AgglomerativeClustering(n_clusters=2, linkage='average', affinity='manhattan')\n",
    "avg_pred = avg.fit_predict(data1)\n",
    "\n",
    "single = AgglomerativeClustering(n_clusters =2, linkage ='single', affinity = 'manhattan')\n",
    "single_pred = single.fit_predict(data1)"
   ]
  },
  {
   "cell_type": "code",
   "execution_count": 152,
   "metadata": {},
   "outputs": [
    {
     "name": "stdout",
     "output_type": "stream",
     "text": [
      "DBI Scores: Manhattan \n",
      "Ward: 0.328863642651896 \n",
      "Complete:  0.328863642651896 \n",
      "Average:  0.328863642651896 \n",
      "Single: 0.043621555085389105\n"
     ]
    }
   ],
   "source": [
    "ward_score_man = davies_bouldin_score(data1,ward_pred)\n",
    "complete_score_man = davies_bouldin_score(data1,complete_pred)\n",
    "avg_score_man = davies_bouldin_score(data1,avg_pred)\n",
    "single_score_man =davies_bouldin_score(data1,single_pred)\n",
    "\n",
    "print( \"DBI Scores: Manhattan \\nWard:\", ward_score_man,\"\\nComplete: \", complete_score_man, \"\\nAverage: \", avg_score_man, \"\\nSingle:\", single_score_man)"
   ]
  },
  {
   "cell_type": "markdown",
   "metadata": {},
   "source": [
    "# With Affinity for Cosine"
   ]
  },
  {
   "cell_type": "code",
   "execution_count": 153,
   "metadata": {},
   "outputs": [],
   "source": [
    "complete = AgglomerativeClustering(n_clusters=2, linkage='complete', affinity = 'cosine')\n",
    "complete_pred = complete.fit_predict(data1)\n",
    "\n",
    "ward = AgglomerativeClustering(n_clusters=2) #default is euclidean\n",
    "ward_pred = ward.fit_predict(data1)\n",
    "\n",
    "avg = AgglomerativeClustering(n_clusters=2, linkage='average', affinity='cosine')\n",
    "avg_pred = avg.fit_predict(data1)\n",
    "\n",
    "single = AgglomerativeClustering(n_clusters =2, linkage ='single', affinity = 'cosine')\n",
    "single_pred = single.fit_predict(data1)"
   ]
  },
  {
   "cell_type": "code",
   "execution_count": 154,
   "metadata": {},
   "outputs": [
    {
     "name": "stdout",
     "output_type": "stream",
     "text": [
      "DBI Scores: Cosine \n",
      "Ward: 0.328863642651896 \n",
      "Complete:  1.224973038352549 \n",
      "Average:  1.2351280172499712 \n",
      "Single: 1.016849358060489\n"
     ]
    }
   ],
   "source": [
    "ward_score_cos = davies_bouldin_score(data1,ward_pred)\n",
    "complete_score_cos = davies_bouldin_score(data1,complete_pred)\n",
    "avg_score_cos = davies_bouldin_score(data1,avg_pred)\n",
    "single_score_cos =davies_bouldin_score(data1,single_pred)\n",
    "\n",
    "print( \"DBI Scores: Cosine \\nWard:\", ward_score_cos,\"\\nComplete: \", complete_score_cos, \"\\nAverage: \", avg_score_cos, \"\\nSingle:\", single_score_cos)"
   ]
  },
  {
   "cell_type": "markdown",
   "metadata": {},
   "source": [
    "# With Affinity for Precomputed"
   ]
  },
  {
   "cell_type": "code",
   "execution_count": 155,
   "metadata": {},
   "outputs": [],
   "source": [
    "data_two=pd.DataFrame(distance_matrix(data1.values, data1.values), index=data1.index, columns=data1.index)"
   ]
  },
  {
   "cell_type": "code",
   "execution_count": 156,
   "metadata": {},
   "outputs": [
    {
     "name": "stderr",
     "output_type": "stream",
     "text": [
      "C:\\Users\\Nipun Khare\\Anaconda3\\lib\\site-packages\\scipy\\cluster\\hierarchy.py:830: ClusterWarning: scipy.cluster: The symmetric non-negative hollow observation matrix looks suspiciously like an uncondensed distance matrix\n",
      "  return linkage(y, method='ward', metric='euclidean')\n"
     ]
    }
   ],
   "source": [
    "complete = AgglomerativeClustering(n_clusters=2, linkage='complete', affinity = 'precomputed')\n",
    "complete_pred = complete.fit_predict(data_two)\n",
    "\n",
    "ward = AgglomerativeClustering(n_clusters=2) #default is euclidean\n",
    "ward_pred = ward.fit_predict(data_two)\n",
    "\n",
    "avg = AgglomerativeClustering(n_clusters=2, linkage='average', affinity='precomputed')\n",
    "avg_pred = avg.fit_predict(data_two)\n",
    "\n",
    "single = AgglomerativeClustering(n_clusters =2, linkage ='single', affinity = 'precomputed')\n",
    "single_pred = single.fit_predict(data_two)"
   ]
  },
  {
   "cell_type": "code",
   "execution_count": 157,
   "metadata": {},
   "outputs": [
    {
     "name": "stdout",
     "output_type": "stream",
     "text": [
      "DBI Scores: Precomputed \n",
      "Ward: 0.4619639083510272 \n",
      "Complete:  0.03800370182894836 \n",
      "Average:  0.2454321003561098 \n",
      "Single: 0.03800370182894836\n"
     ]
    }
   ],
   "source": [
    "ward_score_pre = davies_bouldin_score(data_two,ward_pred)\n",
    "complete_score_pre = davies_bouldin_score(data_two,complete_pred)\n",
    "avg_score_pre = davies_bouldin_score(data_two,avg_pred)\n",
    "single_score_pre =davies_bouldin_score(data_two,single_pred)\n",
    "\n",
    "print( \"DBI Scores: Precomputed \\nWard:\", ward_score_pre,\"\\nComplete: \", complete_score_pre, \"\\nAverage: \", avg_score_pre, \"\\nSingle:\", single_score_pre)"
   ]
  },
  {
   "cell_type": "markdown",
   "metadata": {},
   "source": [
    "# Calinski Harabasz Score - "
   ]
  },
  {
   "cell_type": "code",
   "execution_count": 158,
   "metadata": {},
   "outputs": [],
   "source": [
    "from sklearn.metrics import calinski_harabasz_score"
   ]
  },
  {
   "cell_type": "code",
   "execution_count": 159,
   "metadata": {},
   "outputs": [],
   "source": [
    "data2= pd.read_csv(r'C:\\Users\\Nipun Khare\\Desktop\\liver_patient.csv', header=None)"
   ]
  },
  {
   "cell_type": "markdown",
   "metadata": {},
   "source": [
    "# With Affinity for Euclidean"
   ]
  },
  {
   "cell_type": "code",
   "execution_count": 160,
   "metadata": {},
   "outputs": [],
   "source": [
    "complete = AgglomerativeClustering(n_clusters=2, linkage='complete', affinity = 'euclidean')\n",
    "complete_pred = complete.fit_predict(data2)\n",
    "\n",
    "ward = AgglomerativeClustering(n_clusters=2) #default is euclidean\n",
    "ward_pred = ward.fit_predict(data2)\n",
    "\n",
    "avg = AgglomerativeClustering(n_clusters=2, linkage='average', affinity='euclidean')\n",
    "avg_pred = avg.fit_predict(data2)\n",
    "\n",
    "single = AgglomerativeClustering(n_clusters =2, linkage ='single', affinity = 'euclidean')\n",
    "single_pred = single.fit_predict(data2)"
   ]
  },
  {
   "cell_type": "code",
   "execution_count": 161,
   "metadata": {},
   "outputs": [
    {
     "name": "stdout",
     "output_type": "stream",
     "text": [
      "CZ Score: Euclidean \n",
      "Ward: 292.2982238695015 \n",
      "Complete:  189.2760125911117 \n",
      "Average:  292.2982238695015 \n",
      "Single: 189.2760125911117\n"
     ]
    }
   ],
   "source": [
    "ward_score_e = calinski_harabasz_score(data2,ward_pred)\n",
    "complete_score_e = calinski_harabasz_score(data2,complete_pred)\n",
    "avg_score_e = calinski_harabasz_score(data2,avg_pred)\n",
    "single_score_e =calinski_harabasz_score(data2,single_pred)\n",
    "\n",
    "print( \"CZ Score: Euclidean \\nWard:\", ward_score_e,\"\\nComplete: \", complete_score_e, \"\\nAverage: \", avg_score_e, \"\\nSingle:\", single_score_e)"
   ]
  },
  {
   "cell_type": "markdown",
   "metadata": {},
   "source": [
    "# With Affinity for L1"
   ]
  },
  {
   "cell_type": "code",
   "execution_count": 162,
   "metadata": {},
   "outputs": [],
   "source": [
    "complete = AgglomerativeClustering(n_clusters=2, linkage='complete', affinity = 'l1')\n",
    "complete_pred = complete.fit_predict(data2)\n",
    "\n",
    "ward = AgglomerativeClustering(n_clusters=2) #default is euclidean\n",
    "ward_pred = ward.fit_predict(data2)\n",
    "\n",
    "avg = AgglomerativeClustering(n_clusters=2, linkage='average', affinity='l1')\n",
    "avg_pred = avg.fit_predict(data2)\n",
    "\n",
    "single = AgglomerativeClustering(n_clusters =2, linkage ='single', affinity = 'l1')\n",
    "single_pred = single.fit_predict(data2)"
   ]
  },
  {
   "cell_type": "code",
   "execution_count": 163,
   "metadata": {},
   "outputs": [
    {
     "name": "stdout",
     "output_type": "stream",
     "text": [
      "CZ Score: L1 \n",
      "Ward: 292.2982238695015 \n",
      "Complete:  292.2982238695015 \n",
      "Average:  292.2982238695015 \n",
      "Single: 189.2760125911117\n"
     ]
    }
   ],
   "source": [
    "ward_score_l1 = calinski_harabasz_score(data2,ward_pred)\n",
    "complete_score_l1 = calinski_harabasz_score(data2,complete_pred)\n",
    "avg_score_l1 = calinski_harabasz_score(data2,avg_pred)\n",
    "single_score_l1 =calinski_harabasz_score(data2,single_pred)\n",
    "\n",
    "print( \"CZ Score: L1 \\nWard:\", ward_score_l1,\"\\nComplete: \", complete_score_l1, \"\\nAverage: \", avg_score_l1, \"\\nSingle:\", single_score_l1)"
   ]
  },
  {
   "cell_type": "markdown",
   "metadata": {},
   "source": [
    "# For Affinity with L2"
   ]
  },
  {
   "cell_type": "code",
   "execution_count": 164,
   "metadata": {},
   "outputs": [],
   "source": [
    "complete = AgglomerativeClustering(n_clusters=2, linkage='complete', affinity = 'l2')\n",
    "complete_pred = complete.fit_predict(data2)\n",
    "\n",
    "ward = AgglomerativeClustering(n_clusters=2) #default is euclidean\n",
    "ward_pred = ward.fit_predict(data2)\n",
    "\n",
    "avg = AgglomerativeClustering(n_clusters=2, linkage='average', affinity='l2')\n",
    "avg_pred = avg.fit_predict(data2)\n",
    "\n",
    "single = AgglomerativeClustering(n_clusters =2, linkage ='single', affinity = 'l2')\n",
    "single_pred = single.fit_predict(data2)"
   ]
  },
  {
   "cell_type": "code",
   "execution_count": 165,
   "metadata": {},
   "outputs": [
    {
     "name": "stdout",
     "output_type": "stream",
     "text": [
      "CZ Score: L2 \n",
      "Ward: 292.2982238695015 \n",
      "Complete:  189.2760125911117 \n",
      "Average:  292.2982238695015 \n",
      "Single: 189.2760125911117\n"
     ]
    }
   ],
   "source": [
    "ward_score_l2 = calinski_harabasz_score(data2,ward_pred)\n",
    "complete_score_l2 = calinski_harabasz_score(data2,complete_pred)\n",
    "avg_score_l2 = calinski_harabasz_score(data2,avg_pred)\n",
    "single_score_l2 =calinski_harabasz_score(data2,single_pred)\n",
    "\n",
    "print( \"CZ Score: L2 \\nWard:\", ward_score_l2,\"\\nComplete: \", complete_score_l2, \"\\nAverage: \", avg_score_l2, \"\\nSingle:\", single_score_l2)"
   ]
  },
  {
   "cell_type": "markdown",
   "metadata": {},
   "source": [
    "# For Affinity with Manhattan"
   ]
  },
  {
   "cell_type": "code",
   "execution_count": 166,
   "metadata": {},
   "outputs": [],
   "source": [
    "complete = AgglomerativeClustering(n_clusters=2, linkage='complete', affinity = 'manhattan')\n",
    "complete_pred = complete.fit_predict(data2)\n",
    "\n",
    "ward = AgglomerativeClustering(n_clusters=2) #default is euclidean\n",
    "ward_pred = ward.fit_predict(data2)\n",
    "\n",
    "avg = AgglomerativeClustering(n_clusters=2, linkage='average', affinity='manhattan')\n",
    "avg_pred = avg.fit_predict(data2)\n",
    "\n",
    "single = AgglomerativeClustering(n_clusters =2, linkage ='single', affinity = 'manhattan')\n",
    "single_pred = single.fit_predict(data2)"
   ]
  },
  {
   "cell_type": "code",
   "execution_count": 167,
   "metadata": {},
   "outputs": [
    {
     "name": "stdout",
     "output_type": "stream",
     "text": [
      "CZ Score: Manhattan \n",
      "Ward: 292.2982238695015 \n",
      "Complete:  292.2982238695015 \n",
      "Average:  292.2982238695015 \n",
      "Single: 189.2760125911117\n"
     ]
    }
   ],
   "source": [
    "ward_score_man = calinski_harabasz_score(data2,ward_pred)\n",
    "complete_score_man = calinski_harabasz_score(data2,complete_pred)\n",
    "avg_score_man = calinski_harabasz_score(data2,avg_pred)\n",
    "single_score_man =calinski_harabasz_score(data2,single_pred)\n",
    "\n",
    "print( \"CZ Score: Manhattan \\nWard:\", ward_score_man,\"\\nComplete: \", complete_score_man, \"\\nAverage: \", avg_score_man, \"\\nSingle:\", single_score_man)"
   ]
  },
  {
   "cell_type": "markdown",
   "metadata": {},
   "source": [
    "# For Affinity with Cosine"
   ]
  },
  {
   "cell_type": "code",
   "execution_count": 168,
   "metadata": {},
   "outputs": [],
   "source": [
    "complete = AgglomerativeClustering(n_clusters=2, linkage='complete', affinity = 'cosine')\n",
    "complete_pred = complete.fit_predict(data2)\n",
    "\n",
    "ward = AgglomerativeClustering(n_clusters=2) #default is euclidean\n",
    "ward_pred = ward.fit_predict(data2)\n",
    "\n",
    "avg = AgglomerativeClustering(n_clusters=2, linkage='average', affinity='cosine')\n",
    "avg_pred = avg.fit_predict(data2)\n",
    "\n",
    "single = AgglomerativeClustering(n_clusters =2, linkage ='single', affinity = 'cosine')\n",
    "single_pred = single.fit_predict(data2)"
   ]
  },
  {
   "cell_type": "code",
   "execution_count": 169,
   "metadata": {},
   "outputs": [
    {
     "name": "stdout",
     "output_type": "stream",
     "text": [
      "CZ Score: Cosine \n",
      "Ward: 292.2982238695015 \n",
      "Complete:  141.23327889420406 \n",
      "Average:  139.0874853709072 \n",
      "Single: 87.72427688024142\n"
     ]
    }
   ],
   "source": [
    "ward_score_cos = calinski_harabasz_score(data2,ward_pred)\n",
    "complete_score_cos = calinski_harabasz_score(data2,complete_pred)\n",
    "avg_score_cos = calinski_harabasz_score(data2,avg_pred)\n",
    "single_score_cos =calinski_harabasz_score(data2,single_pred)\n",
    "\n",
    "print( \"CZ Score: Cosine \\nWard:\", ward_score_cos,\"\\nComplete: \", complete_score_cos, \"\\nAverage: \", avg_score_cos, \"\\nSingle:\", single_score_cos)"
   ]
  },
  {
   "cell_type": "markdown",
   "metadata": {},
   "source": [
    "# For Affinity with Precomputed"
   ]
  },
  {
   "cell_type": "code",
   "execution_count": 170,
   "metadata": {},
   "outputs": [],
   "source": [
    "data_three=pd.DataFrame(distance_matrix(data2.values, data2.values), index=data2.index, columns=data2.index)"
   ]
  },
  {
   "cell_type": "code",
   "execution_count": 171,
   "metadata": {},
   "outputs": [
    {
     "name": "stderr",
     "output_type": "stream",
     "text": [
      "C:\\Users\\Nipun Khare\\Anaconda3\\lib\\site-packages\\scipy\\cluster\\hierarchy.py:830: ClusterWarning: scipy.cluster: The symmetric non-negative hollow observation matrix looks suspiciously like an uncondensed distance matrix\n",
      "  return linkage(y, method='ward', metric='euclidean')\n"
     ]
    }
   ],
   "source": [
    "complete = AgglomerativeClustering(n_clusters=2, linkage='complete', affinity = 'precomputed')\n",
    "complete_pred = complete.fit_predict(data_three)\n",
    "\n",
    "ward = AgglomerativeClustering(n_clusters=2) #default is euclidean\n",
    "ward_pred = ward.fit_predict(data_three)\n",
    "\n",
    "avg = AgglomerativeClustering(n_clusters=2, linkage='average', affinity='precomputed')\n",
    "avg_pred = avg.fit_predict(data_three)\n",
    "\n",
    "single = AgglomerativeClustering(n_clusters =2, linkage ='single', affinity = 'precomputed')\n",
    "single_pred = single.fit_predict(data_three)"
   ]
  },
  {
   "cell_type": "code",
   "execution_count": 172,
   "metadata": {},
   "outputs": [
    {
     "name": "stdout",
     "output_type": "stream",
     "text": [
      "CZ Scores: Precomputed \n",
      "Ward: 759.6332495322861 \n",
      "Complete:  242.2848395243656 \n",
      "Average:  402.3777105683321 \n",
      "Single: 242.2848395243656\n"
     ]
    }
   ],
   "source": [
    "ward_score_pre = calinski_harabasz_score(data_three,ward_pred)\n",
    "complete_score_pre = calinski_harabasz_score(data_three,complete_pred)\n",
    "avg_score_pre = calinski_harabasz_score(data_three,avg_pred)\n",
    "single_score_pre =calinski_harabasz_score(data_three,single_pred)\n",
    "\n",
    "print( \"CZ Scores: Precomputed \\nWard:\", ward_score_pre,\"\\nComplete: \", complete_score_pre, \"\\nAverage: \", avg_score_pre, \"\\nSingle:\", single_score_pre)"
   ]
  },
  {
   "cell_type": "code",
   "execution_count": null,
   "metadata": {},
   "outputs": [],
   "source": []
  }
 ],
 "metadata": {
  "kernelspec": {
   "display_name": "Python 3",
   "language": "python",
   "name": "python3"
  },
  "language_info": {
   "codemirror_mode": {
    "name": "ipython",
    "version": 3
   },
   "file_extension": ".py",
   "mimetype": "text/x-python",
   "name": "python",
   "nbconvert_exporter": "python",
   "pygments_lexer": "ipython3",
   "version": "3.7.4"
  }
 },
 "nbformat": 4,
 "nbformat_minor": 2
}
