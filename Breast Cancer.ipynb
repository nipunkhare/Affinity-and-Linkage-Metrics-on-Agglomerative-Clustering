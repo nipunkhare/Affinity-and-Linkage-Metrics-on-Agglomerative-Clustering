{
 "cells": [
  {
   "cell_type": "code",
   "execution_count": 1,
   "metadata": {},
   "outputs": [],
   "source": [
    "import numpy as np\n",
    "import matplotlib.pyplot as plt\n",
    "import pandas as pd\n",
    "%matplotlib inline"
   ]
  },
  {
   "cell_type": "code",
   "execution_count": 2,
   "metadata": {},
   "outputs": [],
   "source": [
    "df= pd.read_csv(r'C:\\Users\\Nipun Khare\\Desktop\\breast_cancer.csv', header=None)"
   ]
  },
  {
   "cell_type": "code",
   "execution_count": 3,
   "metadata": {},
   "outputs": [],
   "source": [
    "from sklearn.cluster import KMeans\n",
    "kmeans = KMeans(n_clusters = 2, init = 'k-means++', random_state = 100)\n",
    "y_kmeans = kmeans.fit_predict(df)"
   ]
  },
  {
   "cell_type": "code",
   "execution_count": 4,
   "metadata": {},
   "outputs": [
    {
     "data": {
      "text/plain": [
       "0.5956274987124537"
      ]
     },
     "execution_count": 4,
     "metadata": {},
     "output_type": "execute_result"
    }
   ],
   "source": [
    "from sklearn.metrics import silhouette_score\n",
    "silhouette_score(df, y_kmeans)"
   ]
  },
  {
   "cell_type": "code",
   "execution_count": 5,
   "metadata": {},
   "outputs": [
    {
     "data": {
      "text/plain": [
       "0.7587767059973479"
      ]
     },
     "execution_count": 5,
     "metadata": {},
     "output_type": "execute_result"
    }
   ],
   "source": [
    "from sklearn.metrics import davies_bouldin_score\n",
    "davies_bouldin_score(df, y_kmeans)"
   ]
  },
  {
   "cell_type": "code",
   "execution_count": 6,
   "metadata": {},
   "outputs": [
    {
     "data": {
      "text/plain": [
       "1045.9187819506176"
      ]
     },
     "execution_count": 6,
     "metadata": {},
     "output_type": "execute_result"
    }
   ],
   "source": [
    "from sklearn.metrics import calinski_harabasz_score\n",
    "calinski_harabasz_score(df, y_kmeans)"
   ]
  },
  {
   "cell_type": "code",
   "execution_count": 7,
   "metadata": {},
   "outputs": [],
   "source": [
    "from scipy.cluster import hierarchy"
   ]
  },
  {
   "cell_type": "code",
   "execution_count": 34,
   "metadata": {},
   "outputs": [
    {
     "data": {
      "image/png": "[encoded data removed]",
      "text/plain": [
       "<Figure size 648x648 with 1 Axes>"
      ]
     },
     "metadata": {
      "needs_background": "light"
     },
     "output_type": "display_data"
    }
   ],
   "source": [
    "dendrogram = hierarchy.dendrogram(hierarchy.linkage(df, method = 'ward'))\n",
    "plt.rcParams[\"figure.figsize\"] = (5,5)\n",
    "plt.title('Dendrogram')\n",
    "plt.xlabel('Breast Cancer')\n",
    "plt.ylabel('Euclidean distances')\n",
    "plt.show()"
   ]
  },
  {
   "cell_type": "code",
   "execution_count": 9,
   "metadata": {},
   "outputs": [
    {
     "data": {
      "text/plain": [
       "0.5906677045362831"
      ]
     },
     "execution_count": 9,
     "metadata": {},
     "output_type": "execute_result"
    }
   ],
   "source": [
    "#practice run\n",
    "from sklearn.cluster import AgglomerativeClustering\n",
    "ac = AgglomerativeClustering(n_clusters = 2, affinity = 'euclidean', linkage = 'ward')\n",
    "ypred =ac.fit_predict(df)\n",
    "\n",
    "silhouette_score(df, ypred)"
   ]
  },
  {
   "cell_type": "markdown",
   "metadata": {},
   "source": [
    "# Silhouette Scores -"
   ]
  },
  {
   "cell_type": "markdown",
   "metadata": {},
   "source": [
    "# With Affinity for Euclidean - \n"
   ]
  },
  {
   "cell_type": "code",
   "execution_count": 10,
   "metadata": {},
   "outputs": [],
   "source": [
    "complete = AgglomerativeClustering(n_clusters=2, linkage='complete', affinity = 'euclidean')\n",
    "complete_pred = complete.fit_predict(df)\n",
    "\n",
    "ward = AgglomerativeClustering(n_clusters=2) #default is euclidean\n",
    "ward_pred = ward.fit_predict(df)\n",
    "\n",
    "avg = AgglomerativeClustering(n_clusters=2, linkage='average', affinity='euclidean')\n",
    "avg_pred = avg.fit_predict(df)\n",
    "\n",
    "single = AgglomerativeClustering(n_clusters =2, linkage ='single', affinity = 'euclidean')\n",
    "single_pred = single.fit_predict(df)"
   ]
  },
  {
   "cell_type": "code",
   "execution_count": 11,
   "metadata": {},
   "outputs": [
    {
     "name": "stdout",
     "output_type": "stream",
     "text": [
      "Silhouette Scores: Euclidean \n",
      "Ward: 0.5906677045362831 \n",
      "Complete:  0.5621564813420905 \n",
      "Average:  0.5873873514836221 \n",
      "Single: 0.40614715590457906\n"
     ]
    }
   ],
   "source": [
    "ward_score_e = silhouette_score(df,ward_pred)\n",
    "complete_score_e = silhouette_score(df,complete_pred)\n",
    "avg_score_e = silhouette_score(df,avg_pred)\n",
    "single_score_e =silhouette_score(df,single_pred)\n",
    "\n",
    "print( \"Silhouette Scores: Euclidean \\nWard:\", ward_score_e,\"\\nComplete: \", complete_score_e, \"\\nAverage: \", avg_score_e, \"\\nSingle:\", single_score_e)"
   ]
  },
  {
   "cell_type": "markdown",
   "metadata": {},
   "source": [
    "# With Affinity for L1"
   ]
  },
  {
   "cell_type": "code",
   "execution_count": 12,
   "metadata": {},
   "outputs": [],
   "source": [
    "complete = AgglomerativeClustering(n_clusters=2, linkage='complete', affinity = 'l1')\n",
    "complete_pred = complete.fit_predict(df)\n",
    "\n",
    "ward = AgglomerativeClustering(n_clusters=2) #default is euclidean\n",
    "ward_pred = ward.fit_predict(df)\n",
    "\n",
    "avg = AgglomerativeClustering(n_clusters=2, linkage='average', affinity='l1')\n",
    "avg_pred = avg.fit_predict(df)\n",
    "\n",
    "single = AgglomerativeClustering(n_clusters =2, linkage ='single', affinity = 'l1')\n",
    "single_pred = single.fit_predict(df)"
   ]
  },
  {
   "cell_type": "code",
   "execution_count": 13,
   "metadata": {},
   "outputs": [
    {
     "name": "stdout",
     "output_type": "stream",
     "text": [
      "Silhouette Scores: L1 \n",
      "Ward: 0.5906677045362831 \n",
      "Complete:  0.4791536487316985 \n",
      "Average:  0.5869261819640029 \n",
      "Single: 0.30465540391044477\n"
     ]
    }
   ],
   "source": [
    "ward_score_l1 = silhouette_score(df,ward_pred)\n",
    "complete_score_l1 = silhouette_score(df,complete_pred)\n",
    "avg_score_l1 = silhouette_score(df,avg_pred)\n",
    "single_score_l1 =silhouette_score(df,single_pred)\n",
    "\n",
    "print( \"Silhouette Scores: L1 \\nWard:\", ward_score_l1,\"\\nComplete: \", complete_score_l1, \"\\nAverage: \", avg_score_l1, \"\\nSingle:\", single_score_l1)"
   ]
  },
  {
   "cell_type": "markdown",
   "metadata": {},
   "source": [
    "# With Affinity for L2"
   ]
  },
  {
   "cell_type": "code",
   "execution_count": 14,
   "metadata": {},
   "outputs": [],
   "source": [
    "complete = AgglomerativeClustering(n_clusters=2, linkage='complete', affinity = 'l2')\n",
    "complete_pred = complete.fit_predict(df)\n",
    "\n",
    "ward = AgglomerativeClustering(n_clusters=2) #default is euclidean\n",
    "ward_pred = ward.fit_predict(df)\n",
    "\n",
    "avg = AgglomerativeClustering(n_clusters=2, linkage='average', affinity='l2')\n",
    "avg_pred = avg.fit_predict(df)\n",
    "\n",
    "single = AgglomerativeClustering(n_clusters =2, linkage ='single', affinity = 'l2')\n",
    "single_pred = single.fit_predict(df)"
   ]
  },
  {
   "cell_type": "code",
   "execution_count": 15,
   "metadata": {},
   "outputs": [
    {
     "name": "stdout",
     "output_type": "stream",
     "text": [
      "Silhouette Scores: L2 \n",
      "Ward: 0.5906677045362831 \n",
      "Complete:  0.5621564813420905 \n",
      "Average:  0.5873873514836221 \n",
      "Single: 0.40614715590457906\n"
     ]
    }
   ],
   "source": [
    "ward_score_l2 = silhouette_score(df,ward_pred)\n",
    "complete_score_l2 = silhouette_score(df,complete_pred)\n",
    "avg_score_l2 = silhouette_score(df,avg_pred)\n",
    "single_score_l2 =silhouette_score(df,single_pred)\n",
    "\n",
    "print( \"Silhouette Scores: L2 \\nWard:\", ward_score_l2,\"\\nComplete: \", complete_score_l2, \"\\nAverage: \", avg_score_l2, \"\\nSingle:\", single_score_l2)"
   ]
  },
  {
   "cell_type": "markdown",
   "metadata": {},
   "source": [
    "# With Affinity for Manhattan"
   ]
  },
  {
   "cell_type": "code",
   "execution_count": 16,
   "metadata": {},
   "outputs": [],
   "source": [
    "complete = AgglomerativeClustering(n_clusters=2, linkage='complete', affinity = 'manhattan')\n",
    "complete_pred = complete.fit_predict(df)\n",
    "\n",
    "ward = AgglomerativeClustering(n_clusters=2) #default is euclidean\n",
    "ward_pred = ward.fit_predict(df)\n",
    "\n",
    "avg = AgglomerativeClustering(n_clusters=2, linkage='average', affinity='manhattan')\n",
    "avg_pred = avg.fit_predict(df)\n",
    "\n",
    "single = AgglomerativeClustering(n_clusters =2, linkage ='single', affinity = 'manhattan')\n",
    "single_pred = single.fit_predict(df)"
   ]
  },
  {
   "cell_type": "code",
   "execution_count": 17,
   "metadata": {},
   "outputs": [
    {
     "name": "stdout",
     "output_type": "stream",
     "text": [
      "Silhouette Scores: Manhattan \n",
      "Ward: 0.5906677045362831 \n",
      "Complete:  0.4791536487316985 \n",
      "Average:  0.5869261819640029 \n",
      "Single: 0.30465540391044477\n"
     ]
    }
   ],
   "source": [
    "ward_score_man = silhouette_score(df,ward_pred)\n",
    "complete_score_man = silhouette_score(df,complete_pred)\n",
    "avg_score_man = silhouette_score(df,avg_pred)\n",
    "single_score_man =silhouette_score(df,single_pred)\n",
    "\n",
    "print( \"Silhouette Scores: Manhattan \\nWard:\", ward_score_man,\"\\nComplete: \", complete_score_man, \"\\nAverage: \", avg_score_man, \"\\nSingle:\", single_score_man)"
   ]
  },
  {
   "cell_type": "markdown",
   "metadata": {},
   "source": [
    "# With Affinity for cosine"
   ]
  },
  {
   "cell_type": "code",
   "execution_count": 18,
   "metadata": {},
   "outputs": [],
   "source": [
    "complete = AgglomerativeClustering(n_clusters=2, linkage='complete', affinity = 'cosine')\n",
    "complete_pred = complete.fit_predict(df)\n",
    "\n",
    "ward = AgglomerativeClustering(n_clusters=2) #default is euclidean\n",
    "ward_pred = ward.fit_predict(df)\n",
    "\n",
    "avg = AgglomerativeClustering(n_clusters=2, linkage='average', affinity='cosine')\n",
    "avg_pred = avg.fit_predict(df)\n",
    "\n",
    "single = AgglomerativeClustering(n_clusters =2, linkage ='single', affinity = 'cosine')\n",
    "single_pred = single.fit_predict(df)"
   ]
  },
  {
   "cell_type": "code",
   "execution_count": 19,
   "metadata": {},
   "outputs": [
    {
     "name": "stdout",
     "output_type": "stream",
     "text": [
      "Silhouette Scores: Cosine \n",
      "Ward: 0.5906677045362831 \n",
      "Complete:  0.21738131348065778 \n",
      "Average:  -0.03190920044183103 \n",
      "Single: 0.12741280153836312\n"
     ]
    }
   ],
   "source": [
    "ward_score_cos = silhouette_score(df,ward_pred)\n",
    "complete_score_cos = silhouette_score(df,complete_pred)\n",
    "avg_score_cos = silhouette_score(df,avg_pred)\n",
    "single_score_cos =silhouette_score(df,single_pred)\n",
    "\n",
    "print( \"Silhouette Scores: Cosine \\nWard:\", ward_score_cos,\"\\nComplete: \", complete_score_cos, \"\\nAverage: \", avg_score_cos, \"\\nSingle:\", single_score_cos)"
   ]
  },
  {
   "cell_type": "markdown",
   "metadata": {},
   "source": [
    "# With Affinity for Precomputed"
   ]
  },
  {
   "cell_type": "code",
   "execution_count": 20,
   "metadata": {},
   "outputs": [],
   "source": [
    "from scipy.spatial import distance_matrix\n",
    "df_1=pd.DataFrame(distance_matrix(df.values, df.values), index=df.index, columns=df.index)"
   ]
  },
  {
   "cell_type": "code",
   "execution_count": 21,
   "metadata": {},
   "outputs": [
    {
     "name": "stderr",
     "output_type": "stream",
     "text": [
      "C:\\Users\\Nipun Khare\\Anaconda3\\lib\\site-packages\\scipy\\cluster\\hierarchy.py:830: ClusterWarning: scipy.cluster: The symmetric non-negative hollow observation matrix looks suspiciously like an uncondensed distance matrix\n",
      "  return linkage(y, method='ward', metric='euclidean')\n"
     ]
    }
   ],
   "source": [
    "complete = AgglomerativeClustering(n_clusters=2, linkage='complete', affinity = 'precomputed')\n",
    "complete_pred = complete.fit_predict(df_1)\n",
    "\n",
    "ward = AgglomerativeClustering(n_clusters=2) #default is euclidean\n",
    "ward_pred = ward.fit_predict(df_1)\n",
    "\n",
    "avg = AgglomerativeClustering(n_clusters=2, linkage='average', affinity='precomputed')\n",
    "avg_pred = avg.fit_predict(df_1)\n",
    "\n",
    "single = AgglomerativeClustering(n_clusters =2, linkage ='single', affinity = 'precomputed')\n",
    "single_pred = single.fit_predict(df_1)"
   ]
  },
  {
   "cell_type": "code",
   "execution_count": 22,
   "metadata": {},
   "outputs": [
    {
     "name": "stdout",
     "output_type": "stream",
     "text": [
      "Silhouette Scores: Precomputed  \n",
      "Ward: 0.7419221695574809 \n",
      "Complete:  0.6619599586682912 \n",
      "Average:  0.7200652759231851 \n",
      "Single: 0.2708094540533511\n"
     ]
    }
   ],
   "source": [
    "ward_score_pre = silhouette_score(df_1,ward_pred)\n",
    "complete_score_pre = silhouette_score(df_1,complete_pred)\n",
    "avg_score_pre = silhouette_score(df_1,avg_pred)\n",
    "single_score_pre =silhouette_score(df_1,single_pred)\n",
    "\n",
    "print( \"Silhouette Scores: Precomputed  \\nWard:\", ward_score_pre,\"\\nComplete: \", complete_score_pre, \"\\nAverage: \", avg_score_pre, \"\\nSingle:\", single_score_pre)"
   ]
  },
  {
   "cell_type": "markdown",
   "metadata": {},
   "source": [
    "# Davies-Bouldin Scores "
   ]
  },
  {
   "cell_type": "code",
   "execution_count": 23,
   "metadata": {},
   "outputs": [
    {
     "data": {
      "text/html": [
       "<div>\n",
       "<style scoped>\n",
       "    .dataframe tbody tr th:only-of-type {\n",
       "        vertical-align: middle;\n",
       "    }\n",
       "\n",
       "    .dataframe tbody tr th {\n",
       "        vertical-align: top;\n",
       "    }\n",
       "\n",
       "    .dataframe thead th {\n",
       "        text-align: right;\n",
       "    }\n",
       "</style>\n",
       "<table border=\"1\" class=\"dataframe\">\n",
       "  <thead>\n",
       "    <tr style=\"text-align: right;\">\n",
       "      <th></th>\n",
       "      <th>0</th>\n",
       "      <th>1</th>\n",
       "      <th>2</th>\n",
       "      <th>3</th>\n",
       "      <th>4</th>\n",
       "      <th>5</th>\n",
       "      <th>6</th>\n",
       "      <th>7</th>\n",
       "      <th>8</th>\n",
       "      <th>9</th>\n",
       "    </tr>\n",
       "  </thead>\n",
       "  <tbody>\n",
       "    <tr>\n",
       "      <td>0</td>\n",
       "      <td>5</td>\n",
       "      <td>1</td>\n",
       "      <td>1</td>\n",
       "      <td>1</td>\n",
       "      <td>2</td>\n",
       "      <td>1</td>\n",
       "      <td>3</td>\n",
       "      <td>1</td>\n",
       "      <td>1</td>\n",
       "      <td>2</td>\n",
       "    </tr>\n",
       "    <tr>\n",
       "      <td>1</td>\n",
       "      <td>5</td>\n",
       "      <td>4</td>\n",
       "      <td>4</td>\n",
       "      <td>5</td>\n",
       "      <td>7</td>\n",
       "      <td>10</td>\n",
       "      <td>3</td>\n",
       "      <td>2</td>\n",
       "      <td>1</td>\n",
       "      <td>2</td>\n",
       "    </tr>\n",
       "    <tr>\n",
       "      <td>2</td>\n",
       "      <td>3</td>\n",
       "      <td>1</td>\n",
       "      <td>1</td>\n",
       "      <td>1</td>\n",
       "      <td>2</td>\n",
       "      <td>2</td>\n",
       "      <td>3</td>\n",
       "      <td>1</td>\n",
       "      <td>1</td>\n",
       "      <td>2</td>\n",
       "    </tr>\n",
       "    <tr>\n",
       "      <td>3</td>\n",
       "      <td>6</td>\n",
       "      <td>8</td>\n",
       "      <td>8</td>\n",
       "      <td>1</td>\n",
       "      <td>3</td>\n",
       "      <td>4</td>\n",
       "      <td>3</td>\n",
       "      <td>7</td>\n",
       "      <td>1</td>\n",
       "      <td>2</td>\n",
       "    </tr>\n",
       "    <tr>\n",
       "      <td>4</td>\n",
       "      <td>4</td>\n",
       "      <td>1</td>\n",
       "      <td>1</td>\n",
       "      <td>3</td>\n",
       "      <td>2</td>\n",
       "      <td>1</td>\n",
       "      <td>3</td>\n",
       "      <td>1</td>\n",
       "      <td>1</td>\n",
       "      <td>2</td>\n",
       "    </tr>\n",
       "    <tr>\n",
       "      <td>...</td>\n",
       "      <td>...</td>\n",
       "      <td>...</td>\n",
       "      <td>...</td>\n",
       "      <td>...</td>\n",
       "      <td>...</td>\n",
       "      <td>...</td>\n",
       "      <td>...</td>\n",
       "      <td>...</td>\n",
       "      <td>...</td>\n",
       "      <td>...</td>\n",
       "    </tr>\n",
       "    <tr>\n",
       "      <td>694</td>\n",
       "      <td>3</td>\n",
       "      <td>1</td>\n",
       "      <td>1</td>\n",
       "      <td>1</td>\n",
       "      <td>3</td>\n",
       "      <td>2</td>\n",
       "      <td>1</td>\n",
       "      <td>1</td>\n",
       "      <td>1</td>\n",
       "      <td>2</td>\n",
       "    </tr>\n",
       "    <tr>\n",
       "      <td>695</td>\n",
       "      <td>2</td>\n",
       "      <td>1</td>\n",
       "      <td>1</td>\n",
       "      <td>1</td>\n",
       "      <td>2</td>\n",
       "      <td>1</td>\n",
       "      <td>1</td>\n",
       "      <td>1</td>\n",
       "      <td>1</td>\n",
       "      <td>2</td>\n",
       "    </tr>\n",
       "    <tr>\n",
       "      <td>696</td>\n",
       "      <td>5</td>\n",
       "      <td>10</td>\n",
       "      <td>10</td>\n",
       "      <td>3</td>\n",
       "      <td>7</td>\n",
       "      <td>3</td>\n",
       "      <td>8</td>\n",
       "      <td>10</td>\n",
       "      <td>2</td>\n",
       "      <td>4</td>\n",
       "    </tr>\n",
       "    <tr>\n",
       "      <td>697</td>\n",
       "      <td>4</td>\n",
       "      <td>8</td>\n",
       "      <td>6</td>\n",
       "      <td>4</td>\n",
       "      <td>3</td>\n",
       "      <td>4</td>\n",
       "      <td>10</td>\n",
       "      <td>6</td>\n",
       "      <td>1</td>\n",
       "      <td>4</td>\n",
       "    </tr>\n",
       "    <tr>\n",
       "      <td>698</td>\n",
       "      <td>4</td>\n",
       "      <td>8</td>\n",
       "      <td>8</td>\n",
       "      <td>5</td>\n",
       "      <td>4</td>\n",
       "      <td>5</td>\n",
       "      <td>10</td>\n",
       "      <td>4</td>\n",
       "      <td>1</td>\n",
       "      <td>4</td>\n",
       "    </tr>\n",
       "  </tbody>\n",
       "</table>\n",
       "<p>699 rows × 10 columns</p>\n",
       "</div>"
      ],
      "text/plain": [
       "     0   1   2  3  4   5   6   7  8  9\n",
       "0    5   1   1  1  2   1   3   1  1  2\n",
       "1    5   4   4  5  7  10   3   2  1  2\n",
       "2    3   1   1  1  2   2   3   1  1  2\n",
       "3    6   8   8  1  3   4   3   7  1  2\n",
       "4    4   1   1  3  2   1   3   1  1  2\n",
       "..  ..  ..  .. .. ..  ..  ..  .. .. ..\n",
       "694  3   1   1  1  3   2   1   1  1  2\n",
       "695  2   1   1  1  2   1   1   1  1  2\n",
       "696  5  10  10  3  7   3   8  10  2  4\n",
       "697  4   8   6  4  3   4  10   6  1  4\n",
       "698  4   8   8  5  4   5  10   4  1  4\n",
       "\n",
       "[699 rows x 10 columns]"
      ]
     },
     "execution_count": 23,
     "metadata": {},
     "output_type": "execute_result"
    }
   ],
   "source": [
    "df"
   ]
  },
  {
   "cell_type": "markdown",
   "metadata": {},
   "source": [
    "# With Affinity for Euclidean"
   ]
  },
  {
   "cell_type": "code",
   "execution_count": 24,
   "metadata": {},
   "outputs": [],
   "source": [
    "complete = AgglomerativeClustering(n_clusters=2, linkage='complete', affinity = 'euclidean')\n",
    "complete_pred = complete.fit_predict(df)\n",
    "\n",
    "ward = AgglomerativeClustering(n_clusters=2) #default is euclidean\n",
    "ward_pred = ward.fit_predict(df)\n",
    "\n",
    "avg = AgglomerativeClustering(n_clusters=2, linkage='average', affinity='euclidean')\n",
    "avg_pred = avg.fit_predict(df)\n",
    "\n",
    "single = AgglomerativeClustering(n_clusters =2, linkage ='single', affinity = 'euclidean')\n",
    "single_pred = single.fit_predict(df)"
   ]
  },
  {
   "cell_type": "code",
   "execution_count": 25,
   "metadata": {},
   "outputs": [
    {
     "name": "stdout",
     "output_type": "stream",
     "text": [
      "DBI Scores: Euclidean \n",
      "Ward: 0.7683323984839355 \n",
      "Complete:  0.8169684099960325 \n",
      "Average:  0.7777309313462893 \n",
      "Single: 0.48985925053689827\n"
     ]
    }
   ],
   "source": [
    "ward_score_e = davies_bouldin_score(df,ward_pred)\n",
    "complete_score_e = davies_bouldin_score(df,complete_pred)\n",
    "avg_score_e = davies_bouldin_score(df,avg_pred)\n",
    "single_score_e =davies_bouldin_score(df,single_pred)\n",
    "\n",
    "print( \"DBI Scores: Euclidean \\nWard:\", ward_score_e,\"\\nComplete: \", complete_score_e, \"\\nAverage: \", avg_score_e, \"\\nSingle:\", single_score_e)"
   ]
  },
  {
   "cell_type": "markdown",
   "metadata": {},
   "source": [
    "# With Affinity for L1"
   ]
  },
  {
   "cell_type": "code",
   "execution_count": 26,
   "metadata": {},
   "outputs": [],
   "source": [
    "complete = AgglomerativeClustering(n_clusters=2, linkage='complete', affinity = 'l1')\n",
    "complete_pred = complete.fit_predict(df)\n",
    "\n",
    "ward = AgglomerativeClustering(n_clusters=2) #default is euclidean\n",
    "ward_pred = ward.fit_predict(df)\n",
    "\n",
    "avg = AgglomerativeClustering(n_clusters=2, linkage='average', affinity='l1')\n",
    "avg_pred = avg.fit_predict(df)\n",
    "\n",
    "single = AgglomerativeClustering(n_clusters =2, linkage ='single', affinity = 'l1')\n",
    "single_pred = single.fit_predict(df)"
   ]
  },
  {
   "cell_type": "code",
   "execution_count": 27,
   "metadata": {},
   "outputs": [
    {
     "name": "stdout",
     "output_type": "stream",
     "text": [
      "DBI Scores: L1 \n",
      "Ward: 0.7683323984839355 \n",
      "Complete:  0.9597102909947891 \n",
      "Average:  0.7751911518846004 \n",
      "Single: 0.5965746526661723\n"
     ]
    }
   ],
   "source": [
    "ward_score_l1 = davies_bouldin_score(df,ward_pred)\n",
    "complete_score_l1 = davies_bouldin_score(df,complete_pred)\n",
    "avg_score_l1 = davies_bouldin_score(df,avg_pred)\n",
    "single_score_l1 =davies_bouldin_score(df,single_pred)\n",
    "\n",
    "print( \"DBI Scores: L1 \\nWard:\", ward_score_l1,\"\\nComplete: \", complete_score_l1, \"\\nAverage: \", avg_score_l1, \"\\nSingle:\", single_score_l1)"
   ]
  },
  {
   "cell_type": "markdown",
   "metadata": {},
   "source": [
    "# With Affinity for L2"
   ]
  },
  {
   "cell_type": "code",
   "execution_count": 28,
   "metadata": {},
   "outputs": [],
   "source": [
    "complete = AgglomerativeClustering(n_clusters=2, linkage='complete', affinity = 'l2')\n",
    "complete_pred = complete.fit_predict(df)\n",
    "\n",
    "ward = AgglomerativeClustering(n_clusters=2) #default is euclidean\n",
    "ward_pred = ward.fit_predict(df)\n",
    "\n",
    "avg = AgglomerativeClustering(n_clusters=2, linkage='average', affinity='l2')\n",
    "avg_pred = avg.fit_predict(df)\n",
    "\n",
    "single = AgglomerativeClustering(n_clusters =2, linkage ='single', affinity = 'l2')\n",
    "single_pred = single.fit_predict(df)"
   ]
  },
  {
   "cell_type": "code",
   "execution_count": 29,
   "metadata": {},
   "outputs": [
    {
     "name": "stdout",
     "output_type": "stream",
     "text": [
      "DBI Scores: L2 \n",
      "Ward: 0.7683323984839355 \n",
      "Complete:  0.8169684099960325 \n",
      "Average:  0.7777309313462893 \n",
      "Single: 0.48985925053689827\n"
     ]
    }
   ],
   "source": [
    "ward_score_l2 = davies_bouldin_score(df,ward_pred)\n",
    "complete_score_l2 = davies_bouldin_score(df,complete_pred)\n",
    "avg_score_l2 = davies_bouldin_score(df,avg_pred)\n",
    "single_score_l2 =davies_bouldin_score(df,single_pred)\n",
    "\n",
    "print( \"DBI Scores: L2 \\nWard:\", ward_score_l2,\"\\nComplete: \", complete_score_l2, \"\\nAverage: \", avg_score_l2, \"\\nSingle:\", single_score_l2)"
   ]
  },
  {
   "cell_type": "markdown",
   "metadata": {},
   "source": [
    "# With Affinity for Manhattan"
   ]
  },
  {
   "cell_type": "code",
   "execution_count": 30,
   "metadata": {},
   "outputs": [],
   "source": [
    "complete = AgglomerativeClustering(n_clusters=2, linkage='complete', affinity = 'manhattan')\n",
    "complete_pred = complete.fit_predict(df)\n",
    "\n",
    "ward = AgglomerativeClustering(n_clusters=2) #default is euclidean\n",
    "ward_pred = ward.fit_predict(df)\n",
    "\n",
    "avg = AgglomerativeClustering(n_clusters=2, linkage='average', affinity='manhattan')\n",
    "avg_pred = avg.fit_predict(df)\n",
    "\n",
    "single = AgglomerativeClustering(n_clusters =2, linkage ='single', affinity = 'manhattan')\n",
    "single_pred = single.fit_predict(df)"
   ]
  },
  {
   "cell_type": "code",
   "execution_count": 30,
   "metadata": {},
   "outputs": [
    {
     "ename": "KeyboardInterrupt",
     "evalue": "",
     "output_type": "error",
     "traceback": [
      "\u001b[1;31m---------------------------------------------------------------------------\u001b[0m",
      "\u001b[1;31mKeyboardInterrupt\u001b[0m                         Traceback (most recent call last)",
      "\u001b[1;32m~\\Anaconda3\\lib\\site-packages\\IPython\\core\\async_helpers.py\u001b[0m in \u001b[0;36m_pseudo_sync_runner\u001b[1;34m(coro)\u001b[0m\n\u001b[0;32m     66\u001b[0m     \"\"\"\n\u001b[0;32m     67\u001b[0m     \u001b[1;32mtry\u001b[0m\u001b[1;33m:\u001b[0m\u001b[1;33m\u001b[0m\u001b[1;33m\u001b[0m\u001b[0m\n\u001b[1;32m---> 68\u001b[1;33m         \u001b[0mcoro\u001b[0m\u001b[1;33m.\u001b[0m\u001b[0msend\u001b[0m\u001b[1;33m(\u001b[0m\u001b[1;32mNone\u001b[0m\u001b[1;33m)\u001b[0m\u001b[1;33m\u001b[0m\u001b[1;33m\u001b[0m\u001b[0m\n\u001b[0m\u001b[0;32m     69\u001b[0m     \u001b[1;32mexcept\u001b[0m \u001b[0mStopIteration\u001b[0m \u001b[1;32mas\u001b[0m \u001b[0mexc\u001b[0m\u001b[1;33m:\u001b[0m\u001b[1;33m\u001b[0m\u001b[1;33m\u001b[0m\u001b[0m\n\u001b[0;32m     70\u001b[0m         \u001b[1;32mreturn\u001b[0m \u001b[0mexc\u001b[0m\u001b[1;33m.\u001b[0m\u001b[0mvalue\u001b[0m\u001b[1;33m\u001b[0m\u001b[1;33m\u001b[0m\u001b[0m\n",
      "\u001b[1;32m~\\Anaconda3\\lib\\site-packages\\IPython\\core\\interactiveshell.py\u001b[0m in \u001b[0;36mrun_cell_async\u001b[1;34m(self, raw_cell, store_history, silent, shell_futures)\u001b[0m\n\u001b[0;32m   2981\u001b[0m         \u001b[1;32mif\u001b[0m \u001b[0mstore_history\u001b[0m\u001b[1;33m:\u001b[0m\u001b[1;33m\u001b[0m\u001b[1;33m\u001b[0m\u001b[0m\n\u001b[0;32m   2982\u001b[0m             self.history_manager.store_inputs(self.execution_count,\n\u001b[1;32m-> 2983\u001b[1;33m                                               cell, raw_cell)\n\u001b[0m\u001b[0;32m   2984\u001b[0m         \u001b[1;32mif\u001b[0m \u001b[1;32mnot\u001b[0m \u001b[0msilent\u001b[0m\u001b[1;33m:\u001b[0m\u001b[1;33m\u001b[0m\u001b[1;33m\u001b[0m\u001b[0m\n\u001b[0;32m   2985\u001b[0m             \u001b[0mself\u001b[0m\u001b[1;33m.\u001b[0m\u001b[0mlogger\u001b[0m\u001b[1;33m.\u001b[0m\u001b[0mlog\u001b[0m\u001b[1;33m(\u001b[0m\u001b[0mcell\u001b[0m\u001b[1;33m,\u001b[0m \u001b[0mraw_cell\u001b[0m\u001b[1;33m)\u001b[0m\u001b[1;33m\u001b[0m\u001b[1;33m\u001b[0m\u001b[0m\n",
      "\u001b[1;32m~\\Anaconda3\\lib\\site-packages\\IPython\\core\\history.py\u001b[0m in \u001b[0;36mstore_inputs\u001b[1;34m(self, line_num, source, source_raw)\u001b[0m\n\u001b[0;32m    717\u001b[0m         \u001b[0mself\u001b[0m\u001b[1;33m.\u001b[0m\u001b[0minput_hist_raw\u001b[0m\u001b[1;33m.\u001b[0m\u001b[0mappend\u001b[0m\u001b[1;33m(\u001b[0m\u001b[0msource_raw\u001b[0m\u001b[1;33m)\u001b[0m\u001b[1;33m\u001b[0m\u001b[1;33m\u001b[0m\u001b[0m\n\u001b[0;32m    718\u001b[0m \u001b[1;33m\u001b[0m\u001b[0m\n\u001b[1;32m--> 719\u001b[1;33m         \u001b[1;32mwith\u001b[0m \u001b[0mself\u001b[0m\u001b[1;33m.\u001b[0m\u001b[0mdb_input_cache_lock\u001b[0m\u001b[1;33m:\u001b[0m\u001b[1;33m\u001b[0m\u001b[1;33m\u001b[0m\u001b[0m\n\u001b[0m\u001b[0;32m    720\u001b[0m             \u001b[0mself\u001b[0m\u001b[1;33m.\u001b[0m\u001b[0mdb_input_cache\u001b[0m\u001b[1;33m.\u001b[0m\u001b[0mappend\u001b[0m\u001b[1;33m(\u001b[0m\u001b[1;33m(\u001b[0m\u001b[0mline_num\u001b[0m\u001b[1;33m,\u001b[0m \u001b[0msource\u001b[0m\u001b[1;33m,\u001b[0m \u001b[0msource_raw\u001b[0m\u001b[1;33m)\u001b[0m\u001b[1;33m)\u001b[0m\u001b[1;33m\u001b[0m\u001b[1;33m\u001b[0m\u001b[0m\n\u001b[0;32m    721\u001b[0m             \u001b[1;31m# Trigger to flush cache and write to DB.\u001b[0m\u001b[1;33m\u001b[0m\u001b[1;33m\u001b[0m\u001b[1;33m\u001b[0m\u001b[0m\n",
      "\u001b[1;31mKeyboardInterrupt\u001b[0m: "
     ]
    }
   ],
   "source": [
    "ward_score_man = davies_bouldin_score(df,ward_pred)\n",
    "complete_score_man = davies_bouldin_score(df,complete_pred)\n",
    "avg_score_man = davies_bouldin_score(df,avg_pred)\n",
    "single_score_man =davies_bouldin_score(df,single_pred)\n",
    "\n",
    "print( \"DBI Scores: Manhattan \\nWard:\", ward_score_man,\"\\nComplete: \", complete_score_man, \"\\nAverage: \", avg_score_man, \"\\nSingle:\", single_score_man)"
   ]
  },
  {
   "cell_type": "markdown",
   "metadata": {},
   "source": [
    "# With Affinity for Cosine"
   ]
  },
  {
   "cell_type": "code",
   "execution_count": null,
   "metadata": {},
   "outputs": [],
   "source": [
    "complete = AgglomerativeClustering(n_clusters=2, linkage='complete', affinity = 'cosine')\n",
    "complete_pred = complete.fit_predict(df)\n",
    "\n",
    "ward = AgglomerativeClustering(n_clusters=2) #default is euclidean\n",
    "ward_pred = ward.fit_predict(df)\n",
    "\n",
    "avg = AgglomerativeClustering(n_clusters=2, linkage='average', affinity='cosine')\n",
    "avg_pred = avg.fit_predict(df)\n",
    "\n",
    "single = AgglomerativeClustering(n_clusters =2, linkage ='single', affinity = 'cosine')\n",
    "single_pred = single.fit_predict(df)"
   ]
  },
  {
   "cell_type": "code",
   "execution_count": null,
   "metadata": {},
   "outputs": [],
   "source": [
    "ward_score_cos = davies_bouldin_score(df,ward_pred)\n",
    "complete_score_cos = davies_bouldin_score(df,complete_pred)\n",
    "avg_score_cos = davies_bouldin_score(df,avg_pred)\n",
    "single_score_cos =davies_bouldin_score(df,single_pred)\n",
    "\n",
    "print( \"DBI Scores: Cosine \\nWard:\", ward_score_cos,\"\\nComplete: \", complete_score_cos, \"\\nAverage: \", avg_score_cos, \"\\nSingle:\", single_score_cos)"
   ]
  },
  {
   "cell_type": "markdown",
   "metadata": {},
   "source": [
    "# With Affinity for Precomputed"
   ]
  },
  {
   "cell_type": "code",
   "execution_count": null,
   "metadata": {},
   "outputs": [],
   "source": [
    "data_two=pd.DataFrame(distance_matrix(df.values, df.values), index=df.index, columns=df.index)"
   ]
  },
  {
   "cell_type": "code",
   "execution_count": null,
   "metadata": {},
   "outputs": [],
   "source": [
    "complete = AgglomerativeClustering(n_clusters=2, linkage='complete', affinity = 'precomputed')\n",
    "complete_pred = complete.fit_predict(data_two)\n",
    "\n",
    "ward = AgglomerativeClustering(n_clusters=2) #default is euclidean\n",
    "ward_pred = ward.fit_predict(data_two)\n",
    "\n",
    "avg = AgglomerativeClustering(n_clusters=2, linkage='average', affinity='precomputed')\n",
    "avg_pred = avg.fit_predict(data_two)\n",
    "\n",
    "single = AgglomerativeClustering(n_clusters =2, linkage ='single', affinity = 'precomputed')\n",
    "single_pred = single.fit_predict(data_two)"
   ]
  },
  {
   "cell_type": "code",
   "execution_count": null,
   "metadata": {},
   "outputs": [],
   "source": [
    "ward_score_pre = davies_bouldin_score(data_two,ward_pred)\n",
    "complete_score_pre = davies_bouldin_score(data_two,complete_pred)\n",
    "avg_score_pre = davies_bouldin_score(data_two,avg_pred)\n",
    "single_score_pre =davies_bouldin_score(data_two,single_pred)\n",
    "\n",
    "print( \"DBI Scores: Precomputed \\nWard:\", ward_score_pre,\"\\nComplete: \", complete_score_pre, \"\\nAverage: \", avg_score_pre, \"\\nSingle:\", single_score_pre)"
   ]
  },
  {
   "cell_type": "markdown",
   "metadata": {},
   "source": [
    "# Calinski Harabasz Score -"
   ]
  },
  {
   "cell_type": "code",
   "execution_count": null,
   "metadata": {},
   "outputs": [],
   "source": [
    "df"
   ]
  },
  {
   "cell_type": "markdown",
   "metadata": {},
   "source": [
    "# With Affinity for Euclidean"
   ]
  },
  {
   "cell_type": "code",
   "execution_count": null,
   "metadata": {},
   "outputs": [],
   "source": [
    "complete = AgglomerativeClustering(n_clusters=2, linkage='complete', affinity = 'euclidean')\n",
    "complete_pred = complete.fit_predict(df)\n",
    "\n",
    "ward = AgglomerativeClustering(n_clusters=2) #default is euclidean\n",
    "ward_pred = ward.fit_predict(df)\n",
    "\n",
    "avg = AgglomerativeClustering(n_clusters=2, linkage='average', affinity='euclidean')\n",
    "avg_pred = avg.fit_predict(df)\n",
    "\n",
    "single = AgglomerativeClustering(n_clusters =2, linkage ='single', affinity = 'euclidean')\n",
    "single_pred = single.fit_predict(df)"
   ]
  },
  {
   "cell_type": "code",
   "execution_count": null,
   "metadata": {},
   "outputs": [],
   "source": [
    "ward_score_e = calinski_harabasz_score(df,ward_pred)\n",
    "complete_score_e = calinski_harabasz_score(df,complete_pred)\n",
    "avg_score_e = calinski_harabasz_score(df,avg_pred)\n",
    "single_score_e =calinski_harabasz_score(df,single_pred)\n",
    "\n",
    "print( \"CZ Score: Euclidean \\nWard:\", ward_score_e,\"\\nComplete: \", complete_score_e, \"\\nAverage: \", avg_score_e, \"\\nSingle:\", single_score_e)"
   ]
  },
  {
   "cell_type": "markdown",
   "metadata": {},
   "source": [
    "# With Affinity for L1"
   ]
  },
  {
   "cell_type": "code",
   "execution_count": null,
   "metadata": {},
   "outputs": [],
   "source": [
    "complete = AgglomerativeClustering(n_clusters=2, linkage='complete', affinity = 'l1')\n",
    "complete_pred = complete.fit_predict(df)\n",
    "\n",
    "ward = AgglomerativeClustering(n_clusters=2) #default is euclidean\n",
    "ward_pred = ward.fit_predict(df)\n",
    "\n",
    "avg = AgglomerativeClustering(n_clusters=2, linkage='average', affinity='l1')\n",
    "avg_pred = avg.fit_predict(df)\n",
    "\n",
    "single = AgglomerativeClustering(n_clusters =2, linkage ='single', affinity = 'l1')\n",
    "single_pred = single.fit_predict(df)"
   ]
  },
  {
   "cell_type": "code",
   "execution_count": null,
   "metadata": {},
   "outputs": [],
   "source": [
    "ward_score_l1 = calinski_harabasz_score(df,ward_pred)\n",
    "complete_score_l1 = calinski_harabasz_score(df,complete_pred)\n",
    "avg_score_l1 = calinski_harabasz_score(df,avg_pred)\n",
    "single_score_l1 =calinski_harabasz_score(df,single_pred)\n",
    "\n",
    "print( \"CZ Score: L1 \\nWard:\", ward_score_l1,\"\\nComplete: \", complete_score_l1, \"\\nAverage: \", avg_score_l1, \"\\nSingle:\", single_score_l1)"
   ]
  },
  {
   "cell_type": "markdown",
   "metadata": {},
   "source": [
    "# For Affinity with L2"
   ]
  },
  {
   "cell_type": "code",
   "execution_count": null,
   "metadata": {},
   "outputs": [],
   "source": [
    "complete = AgglomerativeClustering(n_clusters=2, linkage='complete', affinity = 'l2')\n",
    "complete_pred = complete.fit_predict(df)\n",
    "\n",
    "ward = AgglomerativeClustering(n_clusters=2) #default is euclidean\n",
    "ward_pred = ward.fit_predict(df)\n",
    "\n",
    "avg = AgglomerativeClustering(n_clusters=2, linkage='average', affinity='l2')\n",
    "avg_pred = avg.fit_predict(df)\n",
    "\n",
    "single = AgglomerativeClustering(n_clusters =2, linkage ='single', affinity = 'l2')\n",
    "single_pred = single.fit_predict(df)"
   ]
  },
  {
   "cell_type": "code",
   "execution_count": null,
   "metadata": {},
   "outputs": [],
   "source": [
    "ward_score_l2 = calinski_harabasz_score(df,ward_pred)\n",
    "complete_score_l2 = calinski_harabasz_score(df,complete_pred)\n",
    "avg_score_l2 = calinski_harabasz_score(df,avg_pred)\n",
    "single_score_l2 =calinski_harabasz_score(df,single_pred)\n",
    "\n",
    "print( \"CZ Score: L2 \\nWard:\", ward_score_l2,\"\\nComplete: \", complete_score_l2, \"\\nAverage: \", avg_score_l2, \"\\nSingle:\", single_score_l2)"
   ]
  },
  {
   "cell_type": "markdown",
   "metadata": {},
   "source": [
    "# For Affinity with Manhattan"
   ]
  },
  {
   "cell_type": "code",
   "execution_count": null,
   "metadata": {},
   "outputs": [],
   "source": [
    "complete = AgglomerativeClustering(n_clusters=2, linkage='complete', affinity = 'manhattan')\n",
    "complete_pred = complete.fit_predict(df)\n",
    "\n",
    "ward = AgglomerativeClustering(n_clusters=2) #default is euclidean\n",
    "ward_pred = ward.fit_predict(df)\n",
    "\n",
    "avg = AgglomerativeClustering(n_clusters=2, linkage='average', affinity='manhattan')\n",
    "avg_pred = avg.fit_predict(df)\n",
    "\n",
    "single = AgglomerativeClustering(n_clusters =2, linkage ='single', affinity = 'manhattan')\n",
    "single_pred = single.fit_predict(df)"
   ]
  },
  {
   "cell_type": "code",
   "execution_count": null,
   "metadata": {},
   "outputs": [],
   "source": [
    "ward_score_man = calinski_harabasz_score(df,ward_pred)\n",
    "complete_score_man = calinski_harabasz_score(df,complete_pred)\n",
    "avg_score_man = calinski_harabasz_score(df,avg_pred)\n",
    "single_score_man =calinski_harabasz_score(df,single_pred)\n",
    "\n",
    "print( \"CZ Score: Manhattan \\nWard:\", ward_score_man,\"\\nComplete: \", complete_score_man, \"\\nAverage: \", avg_score_man, \"\\nSingle:\", single_score_man)"
   ]
  },
  {
   "cell_type": "markdown",
   "metadata": {},
   "source": [
    "# For Affinity with Cosine"
   ]
  },
  {
   "cell_type": "code",
   "execution_count": null,
   "metadata": {},
   "outputs": [],
   "source": [
    "complete = AgglomerativeClustering(n_clusters=2, linkage='complete', affinity = 'cosine')\n",
    "complete_pred = complete.fit_predict(df)\n",
    "\n",
    "ward = AgglomerativeClustering(n_clusters=2) #default is euclidean\n",
    "ward_pred = ward.fit_predict(df)\n",
    "\n",
    "avg = AgglomerativeClustering(n_clusters=2, linkage='average', affinity='cosine')\n",
    "avg_pred = avg.fit_predict(df)\n",
    "\n",
    "single = AgglomerativeClustering(n_clusters =2, linkage ='single', affinity = 'cosine')\n",
    "single_pred = single.fit_predict(df)"
   ]
  },
  {
   "cell_type": "code",
   "execution_count": null,
   "metadata": {},
   "outputs": [],
   "source": [
    "ward_score_cos = calinski_harabasz_score(df,ward_pred)\n",
    "complete_score_cos = calinski_harabasz_score(df,complete_pred)\n",
    "avg_score_cos = calinski_harabasz_score(df,avg_pred)\n",
    "single_score_cos =calinski_harabasz_score(df,single_pred)\n",
    "\n",
    "print( \"CZ Score: Cosine \\nWard:\", ward_score_cos,\"\\nComplete: \", complete_score_cos, \"\\nAverage: \", avg_score_cos, \"\\nSingle:\", single_score_cos)"
   ]
  },
  {
   "cell_type": "markdown",
   "metadata": {},
   "source": [
    "# For Affinity with Precomputed"
   ]
  },
  {
   "cell_type": "code",
   "execution_count": null,
   "metadata": {},
   "outputs": [],
   "source": [
    "data_three=pd.DataFrame(distance_matrix(df.values, df.values), index=df.index, columns=df.index)"
   ]
  },
  {
   "cell_type": "code",
   "execution_count": null,
   "metadata": {},
   "outputs": [],
   "source": [
    "complete = AgglomerativeClustering(n_clusters=2, linkage='complete', affinity = 'precomputed')\n",
    "complete_pred = complete.fit_predict(data_three)\n",
    "\n",
    "ward = AgglomerativeClustering(n_clusters=2) #default is euclidean\n",
    "ward_pred = ward.fit_predict(data_three)\n",
    "\n",
    "avg = AgglomerativeClustering(n_clusters=2, linkage='average', affinity='precomputed')\n",
    "avg_pred = avg.fit_predict(data_three)\n",
    "\n",
    "single = AgglomerativeClustering(n_clusters =2, linkage ='single', affinity = 'precomputed')\n",
    "single_pred = single.fit_predict(data_three)"
   ]
  },
  {
   "cell_type": "code",
   "execution_count": null,
   "metadata": {},
   "outputs": [],
   "source": [
    "ward_score_pre = calinski_harabasz_score(data_three,ward_pred)\n",
    "complete_score_pre = calinski_harabasz_score(data_three,complete_pred)\n",
    "avg_score_pre = calinski_harabasz_score(data_three,avg_pred)\n",
    "single_score_pre =calinski_harabasz_score(data_three,single_pred)\n",
    "\n",
    "print( \"CZ Scores: Precomputed \\nWard:\", ward_score_pre,\"\\nComplete: \", complete_score_pre, \"\\nAverage: \", avg_score_pre, \"\\nSingle:\", single_score_pre)"
   ]
  },
  {
   "cell_type": "code",
   "execution_count": null,
   "metadata": {},
   "outputs": [],
   "source": []
  }
 ],
 "metadata": {
  "kernelspec": {
   "display_name": "Python 3",
   "language": "python",
   "name": "python3"
  },
  "language_info": {
   "codemirror_mode": {
    "name": "ipython",
    "version": 3
   },
   "file_extension": ".py",
   "mimetype": "text/x-python",
   "name": "python",
   "nbconvert_exporter": "python",
   "pygments_lexer": "ipython3",
   "version": "3.7.4"
  }
 },
 "nbformat": 4,
 "nbformat_minor": 2
}
