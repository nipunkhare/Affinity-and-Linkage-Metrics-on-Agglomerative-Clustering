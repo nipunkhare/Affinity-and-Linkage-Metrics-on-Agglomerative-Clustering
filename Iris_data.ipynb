{
 "cells": [
  {
   "cell_type": "code",
   "execution_count": 34,
   "metadata": {},
   "outputs": [],
   "source": [
    "import numpy as np\n",
    "import matplotlib.pyplot as plt\n",
    "import pandas as pd\n",
    "%matplotlib inline"
   ]
  },
  {
   "cell_type": "code",
   "execution_count": 35,
   "metadata": {},
   "outputs": [],
   "source": [
    "iris= pd.read_csv(r'C:\\Users\\Nipun Khare\\Desktop\\iris.csv', header=None)"
   ]
  },
  {
   "cell_type": "code",
   "execution_count": 36,
   "metadata": {},
   "outputs": [
    {
     "data": {
      "text/html": [
       "<div>\n",
       "<style scoped>\n",
       "    .dataframe tbody tr th:only-of-type {\n",
       "        vertical-align: middle;\n",
       "    }\n",
       "\n",
       "    .dataframe tbody tr th {\n",
       "        vertical-align: top;\n",
       "    }\n",
       "\n",
       "    .dataframe thead th {\n",
       "        text-align: right;\n",
       "    }\n",
       "</style>\n",
       "<table border=\"1\" class=\"dataframe\">\n",
       "  <thead>\n",
       "    <tr style=\"text-align: right;\">\n",
       "      <th></th>\n",
       "      <th>0</th>\n",
       "      <th>1</th>\n",
       "      <th>2</th>\n",
       "      <th>3</th>\n",
       "      <th>4</th>\n",
       "    </tr>\n",
       "  </thead>\n",
       "  <tbody>\n",
       "    <tr>\n",
       "      <td>0</td>\n",
       "      <td>5.1</td>\n",
       "      <td>3.5</td>\n",
       "      <td>1.4</td>\n",
       "      <td>0.2</td>\n",
       "      <td>0</td>\n",
       "    </tr>\n",
       "    <tr>\n",
       "      <td>1</td>\n",
       "      <td>4.9</td>\n",
       "      <td>3.0</td>\n",
       "      <td>1.4</td>\n",
       "      <td>0.2</td>\n",
       "      <td>0</td>\n",
       "    </tr>\n",
       "    <tr>\n",
       "      <td>2</td>\n",
       "      <td>4.7</td>\n",
       "      <td>3.2</td>\n",
       "      <td>1.3</td>\n",
       "      <td>0.2</td>\n",
       "      <td>0</td>\n",
       "    </tr>\n",
       "    <tr>\n",
       "      <td>3</td>\n",
       "      <td>4.6</td>\n",
       "      <td>3.1</td>\n",
       "      <td>1.5</td>\n",
       "      <td>0.2</td>\n",
       "      <td>0</td>\n",
       "    </tr>\n",
       "    <tr>\n",
       "      <td>4</td>\n",
       "      <td>5.0</td>\n",
       "      <td>3.6</td>\n",
       "      <td>1.4</td>\n",
       "      <td>0.2</td>\n",
       "      <td>0</td>\n",
       "    </tr>\n",
       "  </tbody>\n",
       "</table>\n",
       "</div>"
      ],
      "text/plain": [
       "     0    1    2    3  4\n",
       "0  5.1  3.5  1.4  0.2  0\n",
       "1  4.9  3.0  1.4  0.2  0\n",
       "2  4.7  3.2  1.3  0.2  0\n",
       "3  4.6  3.1  1.5  0.2  0\n",
       "4  5.0  3.6  1.4  0.2  0"
      ]
     },
     "execution_count": 36,
     "metadata": {},
     "output_type": "execute_result"
    }
   ],
   "source": [
    "iris.head()"
   ]
  },
  {
   "cell_type": "code",
   "execution_count": 37,
   "metadata": {},
   "outputs": [
    {
     "data": {
      "image/png": "[encoded data removed]",
      "text/plain": [
       "<Figure size 432x288 with 1 Axes>"
      ]
     },
     "metadata": {
      "needs_background": "light"
     },
     "output_type": "display_data"
    }
   ],
   "source": [
    "from sklearn.cluster import KMeans\n",
    "wcss = []\n",
    "for i in range(1,11):\n",
    "    kmeans = KMeans(n_clusters = i, init = 'k-means++', random_state = 42)\n",
    "    kmeans.fit(iris)\n",
    "    wcss.append(kmeans.inertia_)\n",
    "plt.plot(range(1, 11), wcss)\n",
    "plt.title('The Elbow Method')\n",
    "plt.xlabel('Number of clusters')\n",
    "plt.ylabel('WCSS')\n",
    "plt.show()"
   ]
  },
  {
   "cell_type": "code",
   "execution_count": 38,
   "metadata": {},
   "outputs": [],
   "source": [
    "from scipy.cluster import hierarchy "
   ]
  },
  {
   "cell_type": "code",
   "execution_count": 39,
   "metadata": {},
   "outputs": [
    {
     "data": {
      "image/png": "[encoded data removed]",
      "text/plain": [
       "<Figure size 432x288 with 1 Axes>"
      ]
     },
     "metadata": {
      "needs_background": "light"
     },
     "output_type": "display_data"
    }
   ],
   "source": [
    "dendrogram = hierarchy.dendrogram(hierarchy.linkage(iris, method = 'ward'))\n",
    "plt.rcParams[\"figure.figsize\"] = (12,12)\n",
    "plt.title('Dendrogram')\n",
    "plt.xlabel('Iris DataSet')\n",
    "plt.ylabel('Euclidean distances')\n",
    "plt.show()"
   ]
  },
  {
   "cell_type": "code",
   "execution_count": 40,
   "metadata": {},
   "outputs": [],
   "source": [
    "kmeans = KMeans(n_clusters = 3, init = 'k-means++', random_state = 42)\n",
    "y_kmeans = kmeans.fit_predict(iris)"
   ]
  },
  {
   "cell_type": "code",
   "execution_count": 41,
   "metadata": {},
   "outputs": [
    {
     "data": {
      "text/plain": [
       "0.5816937070990904"
      ]
     },
     "execution_count": 41,
     "metadata": {},
     "output_type": "execute_result"
    }
   ],
   "source": [
    "from sklearn.metrics import silhouette_score\n",
    "silhouette_score(iris, y_kmeans)"
   ]
  },
  {
   "cell_type": "code",
   "execution_count": 42,
   "metadata": {},
   "outputs": [],
   "source": [
    "from sklearn.metrics import silhouette_score, davies_bouldin_score, calinski_harabasz_score"
   ]
  },
  {
   "cell_type": "code",
   "execution_count": 43,
   "metadata": {},
   "outputs": [],
   "source": [
    "from sklearn.cluster import AgglomerativeClustering"
   ]
  },
  {
   "cell_type": "markdown",
   "metadata": {},
   "source": [
    "# For Affinity with Eucledian"
   ]
  },
  {
   "cell_type": "code",
   "execution_count": 44,
   "metadata": {},
   "outputs": [],
   "source": [
    "complete = AgglomerativeClustering(n_clusters=3, linkage='complete', affinity = 'euclidean')\n",
    "complete_pred = complete.fit_predict(iris)\n",
    "\n",
    "ward = AgglomerativeClustering(n_clusters=3) #default is euclidean\n",
    "ward_pred = ward.fit_predict(iris)\n",
    "\n",
    "avg = AgglomerativeClustering(n_clusters=3, linkage='average', affinity='euclidean')\n",
    "avg_pred = avg.fit_predict(iris)\n",
    "\n",
    "single = AgglomerativeClustering(n_clusters =3, linkage ='single', affinity = 'euclidean')\n",
    "single_pred = single.fit_predict(iris)"
   ]
  },
  {
   "cell_type": "code",
   "execution_count": 45,
   "metadata": {},
   "outputs": [],
   "source": [
    "ward_score_es = silhouette_score(iris,ward_pred), \n",
    "ward_score_edb= davies_bouldin_score(iris, ward_pred), \n",
    "ward_score_ech = calinski_harabasz_score(iris,ward_pred)\n",
    "\n",
    "complete_score_es = silhouette_score(iris,complete_pred),\n",
    "complete_score_edb = davies_bouldin_score(iris, complete_pred), \n",
    "complete_score_ech = calinski_harabasz_score(iris,complete_pred)\n",
    "\n",
    "avg_score_es = silhouette_score(iris,avg_pred), \n",
    "avg_score_edb = davies_bouldin_score(iris, avg_pred), \n",
    "avg_score_ech = calinski_harabasz_score(iris,avg_pred)\n",
    "\n",
    "single_score_es = silhouette_score(iris,single_pred), \n",
    "single_score_edb = davies_bouldin_score(iris,single_pred), \n",
    "single_score_ech = calinski_harabasz_score(iris, single_pred)"
   ]
  },
  {
   "cell_type": "code",
   "execution_count": 53,
   "metadata": {},
   "outputs": [
    {
     "name": "stdout",
     "output_type": "stream",
     "text": [
      "Eucledian: Ward Score \n",
      "Silhouette: (0.5780114722111267,) \n",
      "Davies_Bouldin:  (0.652571735518361,) \n",
      "Calinski_harabasz:  568.5477453046757\n"
     ]
    }
   ],
   "source": [
    "print( \"Eucledian: Ward Score \\nSilhouette:\", ward_score_es,\"\\nDavies_Bouldin: \", ward_score_edb, \"\\nCalinski_harabasz: \", ward_score_ech)"
   ]
  },
  {
   "cell_type": "code",
   "execution_count": 54,
   "metadata": {},
   "outputs": [
    {
     "name": "stdout",
     "output_type": "stream",
     "text": [
      "Eucledian: Complete Score \n",
      "Silhouette: (0.5581181077864155,) \n",
      "Davies_Bouldin:  (0.6517513108616941,) \n",
      "Calinski_harabasz:  548.6676878247629\n"
     ]
    }
   ],
   "source": [
    "print( \"Eucledian: Complete Score \\nSilhouette:\", complete_score_es,\"\\nDavies_Bouldin: \", complete_score_edb, \"\\nCalinski_harabasz: \", complete_score_ech)"
   ]
  },
  {
   "cell_type": "code",
   "execution_count": 52,
   "metadata": {},
   "outputs": [
    {
     "name": "stdout",
     "output_type": "stream",
     "text": [
      "Euclediany: Average Score \n",
      "Silhouette: (0.5816937070990904,) \n",
      "Davies_Bouldin:  (0.6452098459508703,) \n",
      "Calinski_harabasz:  583.8196093563076\n"
     ]
    }
   ],
   "source": [
    "print( \"Euclediany: Average Score \\nSilhouette:\", avg_score_es,\"\\nDavies_Bouldin: \", avg_score_edb, \"\\nCalinski_harabasz: \", avg_score_ech)"
   ]
  },
  {
   "cell_type": "code",
   "execution_count": 55,
   "metadata": {},
   "outputs": [
    {
     "name": "stdout",
     "output_type": "stream",
     "text": [
      "Eucledian: Single Score \n",
      "Silhouette: (0.5780114722111267,) \n",
      "Davies_Bouldin:  (0.652571735518361,) \n",
      "Calinski_harabasz:  568.5477453046757\n"
     ]
    }
   ],
   "source": [
    "print( \"Eucledian: Single Score \\nSilhouette:\", single_score_es,\"\\nDavies_Bouldin: \", single_score_edb, \"\\nCalinski_harabasz: \", single_score_ech)"
   ]
  },
  {
   "cell_type": "markdown",
   "metadata": {},
   "source": [
    "# With Affinity for L1"
   ]
  },
  {
   "cell_type": "code",
   "execution_count": 56,
   "metadata": {},
   "outputs": [],
   "source": [
    "complete = AgglomerativeClustering(n_clusters=3, linkage='complete', affinity = 'l1')\n",
    "complete_pred = complete.fit_predict(iris)\n",
    "\n",
    "ward = AgglomerativeClustering(n_clusters=3) #default is euclidean\n",
    "ward_pred = ward.fit_predict(iris)\n",
    "\n",
    "avg = AgglomerativeClustering(n_clusters=3, linkage='average', affinity='l1')\n",
    "avg_pred = avg.fit_predict(iris)\n",
    "\n",
    "single = AgglomerativeClustering(n_clusters =3, linkage ='single', affinity = 'l1')\n",
    "single_pred = single.fit_predict(iris)"
   ]
  },
  {
   "cell_type": "code",
   "execution_count": 49,
   "metadata": {},
   "outputs": [],
   "source": [
    "ward_score_ls = silhouette_score(iris,ward_pred), \n",
    "ward_score_ldb= davies_bouldin_score(iris, ward_pred), \n",
    "ward_score_lch = calinski_harabasz_score(iris,ward_pred)\n",
    "\n",
    "complete_score_ls = silhouette_score(iris,complete_pred),\n",
    "complete_score_ldb = davies_bouldin_score(iris, complete_pred), \n",
    "complete_score_lch = calinski_harabasz_score(iris,complete_pred)\n",
    "\n",
    "avg_score_ls = silhouette_score(iris,avg_pred), \n",
    "avg_score_ldb = davies_bouldin_score(iris, avg_pred), \n",
    "avg_score_lch = calinski_harabasz_score(iris,avg_pred)\n",
    "\n",
    "single_score_ls = silhouette_score(iris,single_pred), \n",
    "single_score_ldb = davies_bouldin_score(iris,single_pred), \n",
    "single_score_lch = calinski_harabasz_score(iris, single_pred)"
   ]
  },
  {
   "cell_type": "code",
   "execution_count": 57,
   "metadata": {},
   "outputs": [
    {
     "name": "stdout",
     "output_type": "stream",
     "text": [
      "L1: Ward Scores \n",
      "Silhouette: (0.5780114722111267,) \n",
      "Davies_Bouldin:  (0.652571735518361,) \n",
      "Calinski_harabasz:  568.5477453046757\n"
     ]
    }
   ],
   "source": [
    "print( \"L1: Ward Scores \\nSilhouette:\", ward_score_ls,\"\\nDavies_Bouldin: \", ward_score_ldb, \"\\nCalinski_harabasz: \", ward_score_lch)"
   ]
  },
  {
   "cell_type": "code",
   "execution_count": 58,
   "metadata": {},
   "outputs": [
    {
     "name": "stdout",
     "output_type": "stream",
     "text": [
      "L1: Complete Scores \n",
      "Silhouette: (0.5581181077864155,) \n",
      "Davies_Bouldin:  (0.6517513108616941,) \n",
      "Calinski_harabasz:  548.6676878247629\n"
     ]
    }
   ],
   "source": [
    "print( \"L1: Complete Scores \\nSilhouette:\", complete_score_ls,\"\\nDavies_Bouldin: \", complete_score_ldb, \"\\nCalinski_harabasz: \", complete_score_lch)"
   ]
  },
  {
   "cell_type": "code",
   "execution_count": 59,
   "metadata": {},
   "outputs": [
    {
     "name": "stdout",
     "output_type": "stream",
     "text": [
      "L1: Average Scores \n",
      "Silhouette: (0.5816937070990904,) \n",
      "Davies_Bouldin:  (0.6452098459508703,) \n",
      "Calinski_harabasz:  583.8196093563076\n"
     ]
    }
   ],
   "source": [
    "print( \"L1: Average Scores \\nSilhouette:\", avg_score_ls,\"\\nDavies_Bouldin: \", avg_score_ldb, \"\\nCalinski_harabasz: \", avg_score_lch)"
   ]
  },
  {
   "cell_type": "code",
   "execution_count": 60,
   "metadata": {},
   "outputs": [
    {
     "name": "stdout",
     "output_type": "stream",
     "text": [
      "L1: Single Scores \n",
      "Silhouette: (0.3601718951331303,) \n",
      "Davies_Bouldin:  (0.6299487392489208,) \n",
      "Calinski_harabasz:  249.63935931731524\n"
     ]
    }
   ],
   "source": [
    "print( \"L1: Single Scores \\nSilhouette:\", single_score_ls,\"\\nDavies_Bouldin: \", single_score_ldb, \"\\nCalinski_harabasz: \", single_score_lch)"
   ]
  },
  {
   "cell_type": "markdown",
   "metadata": {},
   "source": [
    "# With Affinity for L2"
   ]
  },
  {
   "cell_type": "code",
   "execution_count": 61,
   "metadata": {},
   "outputs": [],
   "source": [
    "complete = AgglomerativeClustering(n_clusters=3, linkage='complete', affinity = 'l2')\n",
    "complete_pred = complete.fit_predict(iris)\n",
    "\n",
    "ward = AgglomerativeClustering(n_clusters=3) #default is euclidean\n",
    "ward_pred = ward.fit_predict(iris)\n",
    "\n",
    "avg = AgglomerativeClustering(n_clusters=3, linkage='average', affinity='l2')\n",
    "avg_pred = avg.fit_predict(iris)\n",
    "\n",
    "single = AgglomerativeClustering(n_clusters =3, linkage ='single', affinity = 'l2')\n",
    "single_pred = single.fit_predict(iris)"
   ]
  },
  {
   "cell_type": "code",
   "execution_count": 62,
   "metadata": {},
   "outputs": [],
   "source": [
    "ward_score_lls = silhouette_score(iris,ward_pred), \n",
    "ward_score_lldb= davies_bouldin_score(iris, ward_pred), \n",
    "ward_score_llch = calinski_harabasz_score(iris,ward_pred)\n",
    "\n",
    "complete_score_lls = silhouette_score(iris,complete_pred),\n",
    "complete_score_lldb = davies_bouldin_score(iris, complete_pred), \n",
    "complete_score_llch = calinski_harabasz_score(iris,complete_pred)\n",
    "\n",
    "avg_score_lls = silhouette_score(iris,avg_pred), \n",
    "avg_score_lldb = davies_bouldin_score(iris, avg_pred), \n",
    "avg_score_llch = calinski_harabasz_score(iris,avg_pred)\n",
    "\n",
    "single_score_lls = silhouette_score(iris,single_pred), \n",
    "single_score_lldb = davies_bouldin_score(iris,single_pred), \n",
    "single_score_llch = calinski_harabasz_score(iris, single_pred)"
   ]
  },
  {
   "cell_type": "code",
   "execution_count": 63,
   "metadata": {},
   "outputs": [
    {
     "name": "stdout",
     "output_type": "stream",
     "text": [
      "L2: Ward Scores \n",
      "Silhouette: (0.5780114722111267,) \n",
      "Davies_Bouldin:  (0.652571735518361,) \n",
      "Calinski_harabasz:  568.5477453046757\n"
     ]
    }
   ],
   "source": [
    "print( \"L2: Ward Scores \\nSilhouette:\", ward_score_lls,\"\\nDavies_Bouldin: \", ward_score_lldb, \"\\nCalinski_harabasz: \", ward_score_llch)"
   ]
  },
  {
   "cell_type": "code",
   "execution_count": 64,
   "metadata": {},
   "outputs": [
    {
     "name": "stdout",
     "output_type": "stream",
     "text": [
      "L2: Complete Scores \n",
      "Silhouette: (0.5581181077864155,) \n",
      "Davies_Bouldin:  (0.6517513108616941,) \n",
      "Calinski_harabasz:  548.6676878247629\n"
     ]
    }
   ],
   "source": [
    "print( \"L2: Complete Scores \\nSilhouette:\", complete_score_lls,\"\\nDavies_Bouldin: \", complete_score_lldb, \"\\nCalinski_harabasz: \", complete_score_llch)"
   ]
  },
  {
   "cell_type": "code",
   "execution_count": 65,
   "metadata": {},
   "outputs": [
    {
     "name": "stdout",
     "output_type": "stream",
     "text": [
      "L1: Average Scores \n",
      "Silhouette: (0.5816937070990904,) \n",
      "Davies_Bouldin:  (0.6452098459508703,) \n",
      "Calinski_harabasz:  583.8196093563076\n"
     ]
    }
   ],
   "source": [
    "print( \"L1: Average Scores \\nSilhouette:\", avg_score_lls,\"\\nDavies_Bouldin: \", avg_score_lldb, \"\\nCalinski_harabasz: \", avg_score_llch)"
   ]
  },
  {
   "cell_type": "code",
   "execution_count": 66,
   "metadata": {},
   "outputs": [
    {
     "name": "stdout",
     "output_type": "stream",
     "text": [
      "L1: Single Scores \n",
      "Silhouette: (0.5780114722111267,) \n",
      "Davies_Bouldin:  (0.652571735518361,) \n",
      "Calinski_harabasz:  568.5477453046757\n"
     ]
    }
   ],
   "source": [
    "print( \"L1: Single Scores \\nSilhouette:\", single_score_lls,\"\\nDavies_Bouldin: \", single_score_lldb, \"\\nCalinski_harabasz: \", single_score_llch)"
   ]
  },
  {
   "cell_type": "markdown",
   "metadata": {},
   "source": [
    "# With Affinity for Manhattan"
   ]
  },
  {
   "cell_type": "code",
   "execution_count": 67,
   "metadata": {},
   "outputs": [],
   "source": [
    "complete = AgglomerativeClustering(n_clusters=3, linkage='complete', affinity = 'manhattan')\n",
    "complete_pred = complete.fit_predict(iris)\n",
    "\n",
    "ward = AgglomerativeClustering(n_clusters=3) #default is euclidean\n",
    "ward_pred = ward.fit_predict(iris)\n",
    "\n",
    "avg = AgglomerativeClustering(n_clusters=3, linkage='average', affinity='manhattan')\n",
    "avg_pred = avg.fit_predict(iris)\n",
    "\n",
    "single = AgglomerativeClustering(n_clusters =3, linkage ='single', affinity = 'manhattan')\n",
    "single_pred = single.fit_predict(iris)"
   ]
  },
  {
   "cell_type": "code",
   "execution_count": 72,
   "metadata": {},
   "outputs": [],
   "source": [
    "ward_score_mans = silhouette_score(iris,ward_pred), \n",
    "ward_score_mandb= davies_bouldin_score(iris, ward_pred), \n",
    "ward_score_mancz = calinski_harabasz_score(iris,ward_pred)\n",
    "\n",
    "complete_score_mans = silhouette_score(iris,complete_pred),\n",
    "complete_score_mandb = davies_bouldin_score(iris, complete_pred), \n",
    "complete_score_mancz = calinski_harabasz_score(iris,complete_pred)\n",
    "\n",
    "avg_score_mans = silhouette_score(iris,avg_pred), \n",
    "avg_score_mandb = davies_bouldin_score(iris, avg_pred), \n",
    "avg_score_mancz = calinski_harabasz_score(iris,avg_pred)\n",
    "\n",
    "single_score_mans = silhouette_score(iris,single_pred), \n",
    "single_score_mandb = davies_bouldin_score(iris,single_pred), \n",
    "single_score_mancz = calinski_harabasz_score(iris, single_pred)"
   ]
  },
  {
   "cell_type": "code",
   "execution_count": 73,
   "metadata": {},
   "outputs": [
    {
     "name": "stdout",
     "output_type": "stream",
     "text": [
      "Manhattan: Ward Scores \n",
      "Silhouette: (0.5780114722111267,) \n",
      "Davies_Bouldin:  (0.652571735518361,) \n",
      "Calinski_harabasz:  568.5477453046757\n"
     ]
    }
   ],
   "source": [
    "print( \"Manhattan: Ward Scores \\nSilhouette:\", ward_score_mans,\"\\nDavies_Bouldin: \", ward_score_mandb, \"\\nCalinski_harabasz: \", ward_score_mancz)"
   ]
  },
  {
   "cell_type": "code",
   "execution_count": 74,
   "metadata": {},
   "outputs": [
    {
     "name": "stdout",
     "output_type": "stream",
     "text": [
      "Manhattan: Complete Scores \n",
      "Silhouette: (0.5581181077864155,) \n",
      "Davies_Bouldin:  (0.6517513108616941,) \n",
      "Calinski_harabasz:  548.6676878247629\n"
     ]
    }
   ],
   "source": [
    "print( \"Manhattan: Complete Scores \\nSilhouette:\", complete_score_mans,\"\\nDavies_Bouldin: \", complete_score_mandb, \"\\nCalinski_harabasz: \", complete_score_mancz)"
   ]
  },
  {
   "cell_type": "code",
   "execution_count": 75,
   "metadata": {},
   "outputs": [
    {
     "name": "stdout",
     "output_type": "stream",
     "text": [
      "Manhattan: Average Scores \n",
      "Silhouette: (0.5816937070990904,) \n",
      "Davies_Bouldin:  (0.6452098459508703,) \n",
      "Calinski_harabasz:  583.8196093563076\n"
     ]
    }
   ],
   "source": [
    "print( \"Manhattan: Average Scores \\nSilhouette:\", avg_score_mans,\"\\nDavies_Bouldin: \", avg_score_mandb, \"\\nCalinski_harabasz: \", avg_score_mancz)"
   ]
  },
  {
   "cell_type": "code",
   "execution_count": 76,
   "metadata": {},
   "outputs": [
    {
     "name": "stdout",
     "output_type": "stream",
     "text": [
      "Manhattan: Single Scores \n",
      "Silhouette: (0.3601718951331303,) \n",
      "Davies_Bouldin:  (0.6299487392489208,) \n",
      "Calinski_harabasz:  249.63935931731524\n"
     ]
    }
   ],
   "source": [
    "print( \"Manhattan: Single Scores \\nSilhouette:\", single_score_mans,\"\\nDavies_Bouldin: \", single_score_mandb, \"\\nCalinski_harabasz: \", single_score_mancz)"
   ]
  },
  {
   "cell_type": "markdown",
   "metadata": {},
   "source": [
    "# With Affinity for Cosine"
   ]
  },
  {
   "cell_type": "code",
   "execution_count": 83,
   "metadata": {},
   "outputs": [],
   "source": [
    "complete = AgglomerativeClustering(n_clusters=3, linkage='complete', affinity = 'cosine')\n",
    "complete_pred = complete.fit_predict(iris)\n",
    "\n",
    "ward = AgglomerativeClustering(n_clusters=3) #default is euclidean\n",
    "ward_pred = ward.fit_predict(iris)\n",
    "\n",
    "avg = AgglomerativeClustering(n_clusters=3, linkage='average', affinity='cosine')\n",
    "avg_pred = avg.fit_predict(iris)\n",
    "\n",
    "single = AgglomerativeClustering(n_clusters =3, linkage ='single', affinity = 'cosine')\n",
    "single_pred = single.fit_predict(iris)"
   ]
  },
  {
   "cell_type": "code",
   "execution_count": 84,
   "metadata": {},
   "outputs": [],
   "source": [
    "ward_score_coss = silhouette_score(iris,ward_pred), \n",
    "ward_score_cosdb= davies_bouldin_score(iris, ward_pred), \n",
    "ward_score_coscz = calinski_harabasz_score(iris,ward_pred)\n",
    "\n",
    "complete_score_coss = silhouette_score(iris,complete_pred),\n",
    "complete_score_cosdb = davies_bouldin_score(iris, complete_pred), \n",
    "complete_score_coscz = calinski_harabasz_score(iris,complete_pred)\n",
    "\n",
    "avg_score_coss = silhouette_score(iris,avg_pred), \n",
    "avg_score_cosdb = davies_bouldin_score(iris, avg_pred), \n",
    "avg_score_coscz = calinski_harabasz_score(iris,avg_pred)\n",
    "\n",
    "single_score_coss = silhouette_score(iris,single_pred), \n",
    "single_score_cosdb = davies_bouldin_score(iris,single_pred), \n",
    "single_score_coscz = calinski_harabasz_score(iris, single_pred)"
   ]
  },
  {
   "cell_type": "code",
   "execution_count": 85,
   "metadata": {},
   "outputs": [
    {
     "name": "stdout",
     "output_type": "stream",
     "text": [
      "Cosine: Ward Scores \n",
      "Silhouette: (0.5780114722111267,) \n",
      "Davies_Bouldin:  (0.652571735518361,) \n",
      "Calinski_harabasz:  568.5477453046757\n"
     ]
    }
   ],
   "source": [
    "print( \"Cosine: Ward Scores \\nSilhouette:\", ward_score_coss,\"\\nDavies_Bouldin: \", ward_score_cosdb, \"\\nCalinski_harabasz: \", ward_score_coscz)"
   ]
  },
  {
   "cell_type": "code",
   "execution_count": 86,
   "metadata": {},
   "outputs": [
    {
     "name": "stdout",
     "output_type": "stream",
     "text": [
      "Cosine: Complete Scores \n",
      "Silhouette: (0.5780114722111267,) \n",
      "Davies_Bouldin:  (0.652571735518361,) \n",
      "Calinski_harabasz:  568.5477453046757\n"
     ]
    }
   ],
   "source": [
    "print( \"Cosine: Complete Scores \\nSilhouette:\", complete_score_coss,\"\\nDavies_Bouldin: \", complete_score_cosdb, \"\\nCalinski_harabasz: \", complete_score_coscz)"
   ]
  },
  {
   "cell_type": "code",
   "execution_count": 87,
   "metadata": {},
   "outputs": [
    {
     "name": "stdout",
     "output_type": "stream",
     "text": [
      "Cosine: Average Scores \n",
      "Silhouette: (0.5780114722111267,) \n",
      "Davies_Bouldin:  (0.652571735518361,) \n",
      "Calinski_harabasz:  568.5477453046757\n"
     ]
    }
   ],
   "source": [
    "print( \"Cosine: Average Scores \\nSilhouette:\", avg_score_coss,\"\\nDavies_Bouldin: \", avg_score_cosdb, \"\\nCalinski_harabasz: \", avg_score_coscz)"
   ]
  },
  {
   "cell_type": "code",
   "execution_count": 88,
   "metadata": {},
   "outputs": [
    {
     "name": "stdout",
     "output_type": "stream",
     "text": [
      "Cosine: Single Scores \n",
      "Silhouette: (0.5447401064484163,) \n",
      "Davies_Bouldin:  (0.38261086516171594,) \n",
      "Calinski_harabasz:  248.07166629464385\n"
     ]
    }
   ],
   "source": [
    "print( \"Cosine: Single Scores \\nSilhouette:\", single_score_coss,\"\\nDavies_Bouldin: \", single_score_cosdb, \"\\nCalinski_harabasz: \", single_score_coscz)"
   ]
  },
  {
   "cell_type": "markdown",
   "metadata": {},
   "source": [
    "# With Affinity for Precomputed"
   ]
  },
  {
   "cell_type": "code",
   "execution_count": 90,
   "metadata": {},
   "outputs": [],
   "source": [
    "from scipy.spatial import distance_matrix"
   ]
  },
  {
   "cell_type": "code",
   "execution_count": 91,
   "metadata": {},
   "outputs": [],
   "source": [
    "df=pd.DataFrame(distance_matrix(iris.values, iris.values), index=iris.index, columns=iris.index)"
   ]
  },
  {
   "cell_type": "code",
   "execution_count": 92,
   "metadata": {},
   "outputs": [
    {
     "name": "stderr",
     "output_type": "stream",
     "text": [
      "C:\\Users\\Nipun Khare\\Anaconda3\\lib\\site-packages\\scipy\\cluster\\hierarchy.py:830: ClusterWarning: scipy.cluster: The symmetric non-negative hollow observation matrix looks suspiciously like an uncondensed distance matrix\n",
      "  return linkage(y, method='ward', metric='euclidean')\n"
     ]
    }
   ],
   "source": [
    "complete = AgglomerativeClustering(n_clusters=3, linkage='complete', affinity = 'precomputed')\n",
    "complete_pred = complete.fit_predict(df)\n",
    "\n",
    "ward = AgglomerativeClustering(n_clusters=3) #default is euclidean\n",
    "ward_pred = ward.fit_predict(df)\n",
    "\n",
    "avg = AgglomerativeClustering(n_clusters=3, linkage='average', affinity='precomputed')\n",
    "avg_pred = avg.fit_predict(df)\n",
    "\n",
    "single = AgglomerativeClustering(n_clusters =3, linkage ='single', affinity = 'precomputed')\n",
    "single_pred = single.fit_predict(df)"
   ]
  },
  {
   "cell_type": "code",
   "execution_count": 93,
   "metadata": {},
   "outputs": [],
   "source": [
    "ward_score_pres = silhouette_score(df,ward_pred), \n",
    "ward_score_predb= davies_bouldin_score(df, ward_pred), \n",
    "ward_score_precz = calinski_harabasz_score(df,ward_pred)\n",
    "\n",
    "complete_score_pres = silhouette_score(df,complete_pred),\n",
    "complete_score_predb = davies_bouldin_score(df, complete_pred), \n",
    "complete_score_precz = calinski_harabasz_score(df,complete_pred)\n",
    "\n",
    "avg_score_pres = silhouette_score(df,avg_pred), \n",
    "avg_score_predb = davies_bouldin_score(df, avg_pred), \n",
    "avg_score_precz = calinski_harabasz_score(df,avg_pred)\n",
    "\n",
    "single_score_pres = silhouette_score(df,single_pred), \n",
    "single_score_predb = davies_bouldin_score(df,single_pred), \n",
    "single_score_precz = calinski_harabasz_score(df, single_pred)"
   ]
  },
  {
   "cell_type": "code",
   "execution_count": 94,
   "metadata": {},
   "outputs": [
    {
     "name": "stdout",
     "output_type": "stream",
     "text": [
      "Precomputed: Ward Scores \n",
      "Silhouette: (0.6587743289070784,) \n",
      "Davies_Bouldin:  (0.5170848489071144,) \n",
      "Calinski_harabasz:  902.0927651811991\n"
     ]
    }
   ],
   "source": [
    "print( \"Precomputed: Ward Scores \\nSilhouette:\", ward_score_pres,\"\\nDavies_Bouldin: \", ward_score_predb, \"\\nCalinski_harabasz: \", ward_score_precz)"
   ]
  },
  {
   "cell_type": "code",
   "execution_count": 95,
   "metadata": {},
   "outputs": [
    {
     "name": "stdout",
     "output_type": "stream",
     "text": [
      "Precomputed: Complete Scores \n",
      "Silhouette: (0.6315612653026264,) \n",
      "Davies_Bouldin:  (0.5370251805080373,) \n",
      "Calinski_harabasz:  804.8252422080052\n"
     ]
    }
   ],
   "source": [
    "print( \"Precomputed: Complete Scores \\nSilhouette:\", complete_score_pres,\"\\nDavies_Bouldin: \", complete_score_predb, \"\\nCalinski_harabasz: \", complete_score_precz)"
   ]
  },
  {
   "cell_type": "code",
   "execution_count": 96,
   "metadata": {},
   "outputs": [
    {
     "name": "stdout",
     "output_type": "stream",
     "text": [
      "Precomputed: Average Scores \n",
      "Silhouette: (0.6587743289070784,) \n",
      "Davies_Bouldin:  (0.5170848489071144,) \n",
      "Calinski_harabasz:  902.0927651811991\n"
     ]
    }
   ],
   "source": [
    "print( \"Precomputed: Average Scores \\nSilhouette:\", avg_score_pres,\"\\nDavies_Bouldin: \", avg_score_predb, \"\\nCalinski_harabasz: \", avg_score_precz)"
   ]
  },
  {
   "cell_type": "code",
   "execution_count": 97,
   "metadata": {},
   "outputs": [
    {
     "name": "stdout",
     "output_type": "stream",
     "text": [
      "Precomputed: Single Scores \n",
      "Silhouette: (0.6523681744470241,) \n",
      "Davies_Bouldin:  (0.5245035567700363,) \n",
      "Calinski_harabasz:  876.8537327708971\n"
     ]
    }
   ],
   "source": [
    "print( \"Precomputed: Single Scores \\nSilhouette:\", single_score_pres,\"\\nDavies_Bouldin: \", single_score_predb, \"\\nCalinski_harabasz: \", single_score_precz)"
   ]
  },
  {
   "cell_type": "code",
   "execution_count": null,
   "metadata": {},
   "outputs": [],
   "source": []
  }
 ],
 "metadata": {
  "kernelspec": {
   "display_name": "Python 3",
   "language": "python",
   "name": "python3"
  },
  "language_info": {
   "codemirror_mode": {
    "name": "ipython",
    "version": 3
   },
   "file_extension": ".py",
   "mimetype": "text/x-python",
   "name": "python",
   "nbconvert_exporter": "python",
   "pygments_lexer": "ipython3",
   "version": "3.7.4"
  }
 },
 "nbformat": 4,
 "nbformat_minor": 2
}
